{
 "cells": [
  {
   "cell_type": "code",
   "execution_count": 1,
   "id": "362f2dc6",
   "metadata": {},
   "outputs": [
    {
     "name": "stdout",
     "output_type": "stream",
     "text": [
      "No of Theive3\n",
      "No of Gold20\n",
      "thiefIndex 0\n",
      "Index doesn't exist!\n"
     ]
    },
    {
     "ename": "IndexError",
     "evalue": "list index out of range",
     "output_type": "error",
     "traceback": [
      "\u001b[1;31m---------------------------------------------------------------------------\u001b[0m",
      "\u001b[1;31mIndexError\u001b[0m                                Traceback (most recent call last)",
      "\u001b[1;32m<ipython-input-1-5a1ea4283750>\u001b[0m in \u001b[0;36m<module>\u001b[1;34m\u001b[0m\n\u001b[0;32m     19\u001b[0m         \u001b[0mcoinsToGive\u001b[0m \u001b[1;33m=\u001b[0m \u001b[0mtotalCoins\u001b[0m\u001b[1;33m\u001b[0m\u001b[0m\n\u001b[0;32m     20\u001b[0m \u001b[1;33m\u001b[0m\u001b[0m\n\u001b[1;32m---> 21\u001b[1;33m     \u001b[0mdata\u001b[0m\u001b[1;33m[\u001b[0m\u001b[0mthiefIndex\u001b[0m\u001b[1;33m]\u001b[0m \u001b[1;33m+=\u001b[0m \u001b[0mcoinsToGive\u001b[0m\u001b[1;33m\u001b[0m\u001b[0m\n\u001b[0m\u001b[0;32m     22\u001b[0m     \u001b[0mtotalCoins\u001b[0m \u001b[1;33m-=\u001b[0m \u001b[0mcoinsToGive\u001b[0m\u001b[1;33m\u001b[0m\u001b[0m\n\u001b[0;32m     23\u001b[0m     \u001b[0mcoins\u001b[0m \u001b[1;33m+=\u001b[0m\u001b[1;36m1\u001b[0m\u001b[1;33m\u001b[0m\u001b[0m\n",
      "\u001b[1;31mIndexError\u001b[0m: list index out of range"
     ]
    }
   ],
   "source": [
    "numt = int(input(\"No of Theive\"))\n",
    "totalCoins = int(input(\"No of Gold\"))\n",
    "data = []\n",
    "coins = 0\n",
    "while totalCoins > 0:\n",
    "    thiefIndex = (coins % numt)\n",
    "    print(\"thiefIndex\", thiefIndex)\n",
    "    try:\n",
    "        data[thiefIndex]\n",
    "    except IndexError:\n",
    "        print(\"Index doesn't exist!\")\n",
    "#     gotdata = data[thiefIndex] if len(data) > 0 else data.append(0)\n",
    "#     data[thiefIndex] = 0\n",
    "#     if data[thiefIndex] is None:\n",
    "#         data[thiefIndex] = 0 #Every thief starts with 0 coins\n",
    "    \n",
    "    coinsToGive = coins + 1\n",
    "    if totalCoins < coinsToGive:\n",
    "        coinsToGive = totalCoins\n",
    "    \n",
    "    data[thiefIndex] += coinsToGive\n",
    "    totalCoins -= coinsToGive\n",
    "    coins +=1\n",
    "    print(data)\n",
    "    \n",
    "# print(data)"
   ]
  },
  {
   "cell_type": "code",
   "execution_count": 32,
   "id": "e3217c30",
   "metadata": {},
   "outputs": [
    {
     "data": {
      "text/plain": [
       "0"
      ]
     },
     "execution_count": 32,
     "metadata": {},
     "output_type": "execute_result"
    }
   ],
   "source": [
    "data1=[]\n",
    "# try:\n",
    "#     data1[0]\n",
    "# except:\n",
    "#     print(\"e\")\n",
    "#     data1.append(0)\n",
    "\n",
    "len(data1)"
   ]
  },
  {
   "cell_type": "code",
   "execution_count": 1,
   "id": "581bfabc",
   "metadata": {},
   "outputs": [],
   "source": [
    "def mth_fmt(year, val):\n",
    "        return str(year) + str(val).zfill(2)"
   ]
  },
  {
   "cell_type": "code",
   "execution_count": 3,
   "id": "cc427b95",
   "metadata": {},
   "outputs": [
    {
     "data": {
      "text/plain": [
       "'202011'"
      ]
     },
     "execution_count": 3,
     "metadata": {},
     "output_type": "execute_result"
    }
   ],
   "source": [
    "period = \"202203\"\n",
    "offset = -16\n",
    "max_val = 12\n",
    "year, val = int(period[:4]), int(period[4:])\n",
    "fmt = mth_fmt\n",
    "\n",
    "val = val - 1 + offset\n",
    "year = year + val // max_val\n",
    "val = val % max_val + 1\n",
    "fmt(year, val)"
   ]
  },
  {
   "cell_type": "code",
   "execution_count": 16,
   "id": "487ff44c",
   "metadata": {},
   "outputs": [
    {
     "data": {
      "text/plain": [
       "-16"
      ]
     },
     "execution_count": 16,
     "metadata": {},
     "output_type": "execute_result"
    }
   ],
   "source": [
    "price_type_offset = -12\n",
    "price_type_offset -= 4\n",
    "price_type_offset"
   ]
  },
  {
   "cell_type": "code",
   "execution_count": 3,
   "id": "d724992a",
   "metadata": {},
   "outputs": [
    {
     "data": {
      "text/plain": [
       "datetime.date(2022, 9, 14)"
      ]
     },
     "execution_count": 3,
     "metadata": {},
     "output_type": "execute_result"
    }
   ],
   "source": [
    "from datetime import datetime\n",
    "datetime.now().date()"
   ]
  },
  {
   "cell_type": "code",
   "execution_count": 6,
   "id": "c799b108",
   "metadata": {},
   "outputs": [
    {
     "data": {
      "text/plain": [
       "'9'"
      ]
     },
     "execution_count": 6,
     "metadata": {},
     "output_type": "execute_result"
    }
   ],
   "source": [
    "import math\n",
    "period='202007'\n",
    "month = str(math.ceil(int(period[4:]) / 3) * 3)\n",
    "month"
   ]
  },
  {
   "cell_type": "code",
   "execution_count": 13,
   "id": "eee867f0",
   "metadata": {},
   "outputs": [
    {
     "data": {
      "text/plain": [
       "2.3333333333333335"
      ]
     },
     "execution_count": 13,
     "metadata": {},
     "output_type": "execute_result"
    }
   ],
   "source": [
    "7/3"
   ]
  },
  {
   "cell_type": "code",
   "execution_count": 32,
   "id": "ee411c59",
   "metadata": {},
   "outputs": [
    {
     "name": "stdout",
     "output_type": "stream",
     "text": [
      "8\n"
     ]
    },
    {
     "data": {
      "text/plain": [
       "True"
      ]
     },
     "execution_count": 32,
     "metadata": {},
     "output_type": "execute_result"
    }
   ],
   "source": [
    "data = 15123456\n",
    "print(len(str(data)))\n",
    "len(str(data)) <= 10"
   ]
  },
  {
   "cell_type": "code",
   "execution_count": 24,
   "id": "2a045e95",
   "metadata": {},
   "outputs": [
    {
     "ename": "SyntaxError",
     "evalue": "'break' outside loop (<ipython-input-24-017020b31882>, line 6)",
     "output_type": "error",
     "traceback": [
      "\u001b[1;36m  File \u001b[1;32m\"<ipython-input-24-017020b31882>\"\u001b[1;36m, line \u001b[1;32m6\u001b[0m\n\u001b[1;33m    #         raise ValidationError(\"'{}' should be less than or equal to 10 digit\".format(data))\u001b[0m\n\u001b[1;37m                   ^\u001b[0m\n\u001b[1;31mSyntaxError\u001b[0m\u001b[1;31m:\u001b[0m 'break' outside loop\n"
     ]
    }
   ],
   "source": [
    "# def validate_package_size_digit(data):\n",
    "#     try:\n",
    "#         break\n",
    "#     except ValueError:\n",
    "#         print(\"except block...\")\n",
    "#         raise ValidationError(\"'{}' should be less than or equal to 10 digit\".format(data))"
   ]
  },
  {
   "cell_type": "code",
   "execution_count": 33,
   "id": "08e5e15d",
   "metadata": {},
   "outputs": [],
   "source": [
    "def validate_package_size_digit(data):\n",
    "    if not len(str(data)) <= 10:\n",
    "         print(\"except block...\")\n",
    "#          raise ValidationError(\"'{}' should be less than or equal to 10 digit\".format(data))"
   ]
  },
  {
   "cell_type": "code",
   "execution_count": 34,
   "id": "821996e1",
   "metadata": {},
   "outputs": [],
   "source": [
    "vali=validate_package_size_digit(data)\n",
    "vali"
   ]
  },
  {
   "cell_type": "code",
   "execution_count": 37,
   "id": "1afe4521",
   "metadata": {},
   "outputs": [],
   "source": [
    "product_gp_fields = [\n",
    "    \"flag_asp\",\n",
    "    \"flag_nfamp\",\n",
    "    \"flag_amp\",\n",
    "    \"flag_phs\",\n",
    "    \"sin\"\n",
    "]"
   ]
  },
  {
   "cell_type": "code",
   "execution_count": 46,
   "id": "d83e92aa",
   "metadata": {},
   "outputs": [
    {
     "name": "stdout",
     "output_type": "stream",
     "text": [
      "yeesss\n"
     ]
    }
   ],
   "source": [
    "data123={\n",
    "    \"ndc11\": \"72366010103\",\n",
    "    \"product_name\": \"Amzeeq Foam 4.0% 30g Can\",\n",
    "    \"ndc9\": \"723560101\",\n",
    "    \"jcode\": \"\",\n",
    "    \"internal\": \"TRUE\",\n",
    "    \"product_summary_name\": \"Amzeeq\",\n",
    "    \"product_brand\": \"Amzeeq\",\n",
    "    \"market_date\": \"06/01/2021\",\n",
    "    \"first_sale_date\": \"12/07/1905\",\n",
    "    \"fda_approval_date\": \"10/18/2019\",\n",
    "    \"fda_application_number\": \"NDA212379\",\n",
    "    \"purchase_date\": \"\",\n",
    "    \"effective_date\": \"01/01/2020\",\n",
    "    \"termination_date\": \"08/26/2023\",\n",
    "    \"expiration_date\": \"08/26/2024\",\n",
    "    \"elig_start_date\": \"01/01/1970\",\n",
    "    \"elig_end_date\": \"01/01/2099\",\n",
    "    \"upc\": \"\",\n",
    "    \"sale_uom\": \"EA\",\n",
    "    \"medicaid_uom\": \"GM\",\n",
    "    \"unit_uom\": \"UN\",\n",
    "    \"medicaid_conversion_factor\": \"30\",\n",
    "    \"unit_conversion_factor\": \"30\",\n",
    "    \"gl_account_code\": \"\",\n",
    "    \"flag_active\": \"TRUE\",\n",
    "    \"flag_medi\": \"TRUE\",\n",
    "    \"auto_add_product\": \"TRUE\",\n",
    "    \"flag_asp\": \"FALSE\",\n",
    "    \"flag_nfamp\": \"TRUE\",\n",
    "    \"flag_amp\": \"TRUE\",\n",
    "    \"flag_bp\": \"TRUE\",\n",
    "    \"flag_iff\": \"TRUE\",\n",
    "    \"reportable_asp\": \"FALSE\",\n",
    "    \"reportable_nfamp\": \"TRUE\",\n",
    "    \"reportable_amp\": \"TRUE\",\n",
    "    \"reportable_bp\": \"TRUE\",\n",
    "    \"reportable_iff\": \"TRUE\",\n",
    "    \"drug_type\": \"RX\",\n",
    "    \"dosage_form\": \"TOPICAL\",\n",
    "    \"amp_type\": \"RCP\",\n",
    "    \"threshold_5i\": \"N\",\n",
    "    \"baseline_qtr\": \"2020q1\",\n",
    "    \"baseline_amp\": \"16.166667\",\n",
    "    \"baseline_cpiu\": \"258.115\",\n",
    "    \"flag_line_extension\": \"FALSE\",\n",
    "    \"manufacturer_name\": \"\",\n",
    "    \"generic_name\": \"\",\n",
    "    \"strength\": \"\",\n",
    "    \"reactivation_date\": \"\",\n",
    "    \"divestiture_date\": \"\",\n",
    "    \"opais_package_size_amount\": \"\",\n",
    "    \"opais_case_package_size_amount\": \"\",\n",
    "    \"upps\": \"\",\n",
    "    \"orphan_drug_designation_date\": \"\",\n",
    "    \"client_id\": 7\n",
    "}\n",
    "if data123.get(\"sin\") is not False:\n",
    "    print(\"yeesss\")"
   ]
  },
  {
   "cell_type": "code",
   "execution_count": 39,
   "id": "99a6fe9e",
   "metadata": {},
   "outputs": [
    {
     "name": "stdout",
     "output_type": "stream",
     "text": [
      "flag_aspYess\n",
      "flag_nfampYess\n",
      "flag_ampYess\n",
      "flag_phs HAHAHAHAHAH\n",
      "sin HAHAHAHAHAH\n"
     ]
    }
   ],
   "source": [
    "for field in product_gp_fields:\n",
    "    if not data123.get(field) and data123.get(field) is not False:\n",
    "        print(field + \" \" +\"HAHAHAHAHAH\")\n",
    "    else:\n",
    "        print(field + 'Yess')"
   ]
  },
  {
   "cell_type": "code",
   "execution_count": 50,
   "id": "48608802",
   "metadata": {},
   "outputs": [],
   "source": [
    "if False is not False:\n",
    "    print(\"check\")"
   ]
  },
  {
   "cell_type": "code",
   "execution_count": 2,
   "id": "d35b574f",
   "metadata": {},
   "outputs": [
    {
     "data": {
      "text/plain": [
       "{'opais_case_package_size_amount': ['Not a valid integer.']}"
      ]
     },
     "execution_count": 2,
     "metadata": {},
     "output_type": "execute_result"
    }
   ],
   "source": [
    "errors={'opais_case_package_size_amount': ['Not a valid integer.'], 'opais_package_size_amount': ['Not a valid integer.']}\n",
    "if errors.get(\"opais_package_size_amount\"):\n",
    "    del errors[\"opais_package_size_amount\"]\n",
    "elif errors.get(\"opais_case_package_size_amount\"):\n",
    "    del errors[\"opais_case_package_size_amount\"]\n",
    "errors"
   ]
  },
  {
   "cell_type": "code",
   "execution_count": 12,
   "id": "8213680a",
   "metadata": {},
   "outputs": [
    {
     "name": "stdout",
     "output_type": "stream",
     "text": [
      "data and 123\n",
      "logic and mma\n",
      "data and 123\n",
      "logic and mma\n",
      "data and 123\n",
      "logic and mma\n"
     ]
    }
   ],
   "source": [
    "dict1 = [{\"data\": 123, \"logic\":\"mma\"}, {\"data\": 123, \"logic\":\"mma\"}, {\"data\": 123, \"logic\":\"mma\"}]\n",
    "# dict1.values()\n",
    "\n",
    "for dic in dict1:\n",
    "#     print(dic)\n",
    "    for k,v in dic.items():\n",
    "        "
   ]
  },
  {
   "cell_type": "code",
   "execution_count": 17,
   "id": "768de66f",
   "metadata": {},
   "outputs": [
    {
     "name": "stdout",
     "output_type": "stream",
     "text": [
      "[{'dollar_type': {'v1': 'NET_AMOUNT'}}, {'use_cppd': {'v1': False}}, {'labeler_variances': {'v1': []}}, {'summary_variance': {'v1': False}}, {'reportable_name': {'v1': 'Rebates'}}, {'ordering': {'v1': 8}}, {'allow_overlap': {'v1': False}}, {'derived': {'v1': False}}, {'variance_threshold_unit': {'v1': '0.0000'}}, {'source': {'v1': 'REB'}}, {'variance_threshold_dollar': {'v1': '0.0000'}}, {'logic_master_id': {'v1': None}}, {'enabled': {'v1': True}}, {'value_period': {'v1': 'DEFAULT'}}, {'name': {'v1': 'rebates'}}, {'summary': {'v1': False}}, {'price_type_id': {'v1': 22}}, {'group_key': {'v1': None}}, {'value': {'v1': '1 = 1'}}, {'unbucketed': {'v1': False}}, {'id': {'v1': 606}}, {'reportable': {'v1': True}}, {'calc_group': {'v1': 'STANDARD'}}, {'errors': {'v1': []}}, {'_type': {'v1': 'BUCKET'}}, {'type': {'v1': 'Bucket (REB)'}}]\n"
     ]
    }
   ],
   "source": []
  },
  {
   "cell_type": "code",
   "execution_count": 18,
   "id": "bc574791",
   "metadata": {},
   "outputs": [
    {
     "name": "stdout",
     "output_type": "stream",
     "text": [
      "{'dollar_type': 'NET_AMOUNT', 'use_cppd': False, 'labeler_variances': [], 'summary_variance': False, 'reportable_name': 'Rebates', 'ordering': 8, 'allow_overlap': False, 'derived': False, 'variance_threshold_unit': '0.0000', 'source': 'REB', 'variance_threshold_dollar': '0.0000', 'logic_master_id': None, 'enabled': True, 'value_period': 'DEFAULT', 'name': 'rebates', 'summary': False, 'price_type_id': 22, 'group_key': None, 'value': '1 = 1', 'unbucketed': False, 'id': 606, 'reportable': True, 'calc_group': 'STANDARD', 'errors': [], '_type': 'BUCKET', 'type': 'Bucket (REB)'}\n"
     ]
    }
   ],
   "source": []
  },
  {
   "cell_type": "code",
   "execution_count": 26,
   "id": "3c6a0e98",
   "metadata": {},
   "outputs": [],
   "source": [
    "bucket_attr_format11 = {\n",
    "    'name': 'Name',\n",
    "    'group_key': 'Group Key',\n",
    "    'variance_threshold_unit': 'Unit Threshold',\n",
    "    'reportable': 'Reportable Y/N',\n",
    "    'summary': 'Display In Summary',\n",
    "    'calc_group': 'Calc Group',\n",
    "    'summary_variance': 'Track Variance',\n",
    "    'variance_threshold_dollar': 'Dollar Threshold',\n",
    "    'dollar_type': 'Dollar Type',\n",
    "    'source': 'source',\n",
    "    'value': 'Filter',\n",
    "    'value_period': 'Value Period',\n",
    "    'reportable_name': 'Reportable Name',\n",
    "    'use_cppd': 'Use CPPD',\n",
    "    'allow_overlap': 'Allow Overlap',\n",
    "    'ppd_column': 'Prompt Pay Percentage',\n",
    "    'date_ds': 'DirectSale',\n",
    "    'date_cbk': 'Chargebacks',\n",
    "    'date_tri': 'TRICARE',\n",
    "    'date_reb': 'REBATE',\n",
    "    'enabled': 'enabled',\n",
    "}"
   ]
  },
  {
   "cell_type": "code",
   "execution_count": 19,
   "id": "6971309d",
   "metadata": {},
   "outputs": [
    {
     "data": {
      "text/plain": [
       "{'chargebacks': {'Unit Threshold': '0.0000',\n",
       "  'Display In Summary': 'false',\n",
       "  'Reportable Y/N': 'true',\n",
       "  'Dollar Threshold': '0.0000',\n",
       "  'Group Key': 'null',\n",
       "  'Filter': 'Chargeback.Quantity >= 0 OR Chargeback.Quantity <= 0',\n",
       "  'source': 'CBK',\n",
       "  'Track Variance': 'false',\n",
       "  'enabled': 'true',\n",
       "  'Calc Group': 'STANDARD',\n",
       "  'Value Period': 'DEFAULT',\n",
       "  'Name': 'chargebacks',\n",
       "  'Use CPPD': 'false',\n",
       "  'Allow Overlap': 'false',\n",
       "  'Dollar Type': 'CBK_AMOUNT',\n",
       "  'Reportable Name': 'Chargebacks'}}"
      ]
     },
     "execution_count": 19,
     "metadata": {},
     "output_type": "execute_result"
    }
   ],
   "source": [
    "{bucket76['chargebacks'].get('name'):{bucket_attr_format[k]:v for k,v in bucket76['chargebacks'].items() if k != '_type' and k != 'type' and k != 'match'}}\n"
   ]
  },
  {
   "cell_type": "code",
   "execution_count": 65,
   "id": "903d79de",
   "metadata": {},
   "outputs": [],
   "source": [
    "key1 = [\"group_key\", \"use_cppd\"]\n",
    "buck1=[\"cb_chargebacks\", \"chargeback_payments\"]\n",
    "\n",
    "datab={\"cb_chargebacks\": {\n",
    "            \"use_cppd\": {\n",
    "                \"v1\": True,\n",
    "                \"v2\": True,\n",
    "                \"match\": True\n",
    "            },\n",
    "            \"group_key\": {\n",
    "                \"v1\": None,\n",
    "                \"v2\": None,\n",
    "                \"match\": True\n",
    "            }\n",
    "            },\n",
    "       \"chargeback_payments\": {\n",
    "            \"use_cppd\": {\n",
    "                \"v1\": True,\n",
    "                \"v2\": True,\n",
    "                \"match\": True\n",
    "            },\n",
    "            \"group_key\": {\n",
    "                \"v1\": None,\n",
    "                \"v2\": None,\n",
    "                \"match\": True\n",
    "            }}\n",
    "}"
   ]
  },
  {
   "cell_type": "code",
   "execution_count": 67,
   "id": "9892c1fe",
   "metadata": {},
   "outputs": [
    {
     "name": "stdout",
     "output_type": "stream",
     "text": [
      "{'cb_chargebacks': {'Group Key': {'v1': None, 'v2': None, 'match': True}}}\n",
      "{'cb_chargebacks': {'Use CPPD': {'v1': True, 'v2': True, 'match': True}}}\n",
      "{'chargeback_payments': {'Group Key': {'v1': None, 'v2': None, 'match': True}}}\n",
      "{'chargeback_payments': {'Use CPPD': {'v1': True, 'v2': True, 'match': True}}}\n"
     ]
    }
   ],
   "source": [
    "# {bucket76['chargebacks'].get('name'):{bucket_attr_format[k]:v for k,v in bucket76['chargebacks'].items()}\n",
    "# for b in buck1:\n",
    "#     for k in key1:\n",
    "#         a1={b:{bucket_attr_format11[k]:datab[b][k]}}\n",
    "#         print(a1)\n",
    "for b in buck1:\n",
    "    db=[for i in datab[b]]"
   ]
  },
  {
   "cell_type": "code",
   "execution_count": 69,
   "id": "46b15468",
   "metadata": {},
   "outputs": [
    {
     "data": {
      "text/plain": [
       "{'cb_chargebacks': {'Use CPPD': {'v1': True, 'v2': True, 'match': True}}}"
      ]
     },
     "execution_count": 69,
     "metadata": {},
     "output_type": "execute_result"
    }
   ],
   "source": [
    "b1={'cb_chargebacks': {'Group Key': {'v1': None, 'v2': None, 'match': True}}}\n",
    "b2={'cb_chargebacks': {'Use CPPD': {'v1': True, 'v2': True, 'match': True}}}\n",
    "b1.update(b2)\n",
    "b1\n",
    "b2"
   ]
  },
  {
   "cell_type": "code",
   "execution_count": 75,
   "id": "d4888908",
   "metadata": {},
   "outputs": [],
   "source": [
    "import openpyxl\n",
    "from decimal import Decimal\n",
    "price_type = 'amp'\n",
    "bucket_cols = {\n",
    "    \"bucket\": \"ret = name\",\n",
    "    \"enabled\": \"ret = line['enabled']['v1']\",\n",
    "    \n",
    "#     \"calc_id\": \"ret = price_type.id\",\n",
    "#     \"source\": \"ret = line.get('source', '')\",\n",
    "#     \"order\": \"ret = line['ordering']\",\n",
    "#     \"bucket\": \"ret = line['name']\",\n",
    "#     \"calc\": \"ret = price_type.name\",\n",
    "#     \"year\": \"ret = line['period'][:4]\",\n",
    "#     \"quarter\": \"ret = month2quarter(line['period'])\",\n",
    "#     \"month\": \"ret = line['period'][:4] + '-' + line['period'][4:]\",\n",
    "#     \"date\": \"ret = month2date(line['period'])\",\n",
    "#     \"ndc11\": \"ret = line['ndc11']\",\n",
    "#     \"ndc9\": \"ret = line['ndc9']\",\n",
    "#     \"amt\": \"ret = Decimal(line['dollars'])\",\n",
    "#     \"units\": \"ret = Decimal(line['units'])\",\n",
    "#     \"final\": \"ret = ''\",\n",
    "#     \"code\": \"ret = ''\",\n",
    "#     \"id\": \"ret = line.get('logic_id', '') or line.get('formula_id', '')\",\n",
    "#     \"method\": \"ret = write_method_str(price_type, line.get('ratio1', False))\",\n",
    "}"
   ]
  },
  {
   "cell_type": "code",
   "execution_count": 76,
   "id": "63f2f997",
   "metadata": {},
   "outputs": [
    {
     "name": "stdout",
     "output_type": "stream",
     "text": [
      "{'enabled': {'v1': 'true', 'v2': 'true', 'match': 'true'}, 'Group Key': {'v1': 'null', 'v2': 'null', 'match': 'true'}, 'Unit Threshold': {'v1': '0.0000', 'v2': '0.0000', 'match': 'true'}}\n"
     ]
    }
   ],
   "source": [
    "bucket12={\n",
    "        \"cb_chargebacks\": {\n",
    "            \"enabled\": {\n",
    "                \"v1\": \"true\",\n",
    "                \"v2\": \"true\",\n",
    "                \"match\": \"true\"\n",
    "            },\n",
    "            \"Group Key\": {\n",
    "                \"v1\": \"null\",\n",
    "                \"v2\": \"null\",\n",
    "                \"match\": \"true\"\n",
    "            },\n",
    "            \"Unit Threshold\": {\n",
    "                \"v1\": \"0.0000\",\n",
    "                \"v2\": \"0.0000\",\n",
    "                \"match\": \"true\"\n",
    "            }\n",
    "        }\n",
    "}\n",
    "for i in bucket12:\n",
    "    print(bucket12[i])"
   ]
  },
  {
   "cell_type": "code",
   "execution_count": 77,
   "id": "3a0839a0",
   "metadata": {},
   "outputs": [
    {
     "name": "stdout",
     "output_type": "stream",
     "text": [
      "x 3\n",
      "namespace {'line': {'enabled': {'v1': 'true', 'v2': 'true', 'match': 'true'}, 'Group Key': {'v1': 'null', 'v2': 'null', 'match': 'true'}, 'Unit Threshold': {'v1': '0.0000', 'v2': '0.0000', 'match': 'true'}}, 'name': 'cb_chargebacks'}\n",
      "namespace-end {}\n"
     ]
    }
   ],
   "source": [
    "\n",
    "wb = openpyxl.Workbook()\n",
    "sheet = wb.active\n",
    "bucket = wb.create_sheet(title=\"BUCKETS\")\n",
    "for y, col in enumerate(bucket_cols, start=1):\n",
    "    bucket.cell(row=1, column=y).value = col\n",
    "namespace={\n",
    "    \n",
    "}\n",
    "x = 0  # In case output is empty, set equal to zero\n",
    "for x, line in enumerate(bucket12, start=3):\n",
    "    print(\"x\", x)\n",
    "    namespace[\"line\"] = bucket12[line]\n",
    "    namespace[\"name\"] = line\n",
    "    print(\"namespace\", namespace)\n",
    "    for y, col in enumerate(bucket_cols, start=1):\n",
    "        exec(bucket_cols[col], namespace)\n",
    "        bucket.cell(row=x, column=y).value = namespace[\"ret\"]\n",
    "    namespace={}\n",
    "    \n",
    "wb.save('test1.xlsx')\n",
    "print(\"namespace-end\", namespace)"
   ]
  },
  {
   "cell_type": "code",
   "execution_count": 79,
   "id": "09ba2a2e",
   "metadata": {},
   "outputs": [],
   "source": [
    "import openpyxl\n",
    "\n",
    "sheet = wb.active\n",
    "\n",
    "price_type = 'amp'\n",
    "header = {\n",
    "    price_type +'-v1':\"\",\n",
    "    price_type +'-v2':\"\",\n",
    "    \"match\": \"\"\n",
    "}\n",
    "\n",
    "for y, col in enumerate(header, start=4):\n",
    "    bucket.cell(row=1, column=y).value = col\n",
    "\n",
    "bucket11={\n",
    "        \"cb_chargebacks\": {\n",
    "            \"enabled\": {\n",
    "                \"v1\": \"true\",\n",
    "                \"v2\": \"true\",\n",
    "                \"match\": \"true\"\n",
    "            },\n",
    "            \"Group Key\": {\n",
    "                \"v1\": \"null\",\n",
    "                \"v2\": \"null\",\n",
    "                \"match\": \"true\"\n",
    "            },\n",
    "            \"Unit Threshold\": {\n",
    "                \"v1\": \"0.0000\",\n",
    "                \"v2\": \"0.0000\",\n",
    "                \"match\": \"true\"\n",
    "            }\n",
    "        }\n",
    "}\n",
    "\n",
    "sheet.title = \"bucket\"\n",
    "wb.save('test1.xlsx')\n"
   ]
  },
  {
   "cell_type": "code",
   "execution_count": 15,
   "id": "510ed6be",
   "metadata": {},
   "outputs": [
    {
     "data": {
      "text/plain": [
       "{'cb_chargebacks': {'use_cppd': {'v1': True, 'v2': True, 'match': True}},\n",
       " 'bucket': {'field': {'v1': 'Bucket Not Present',\n",
       "   'v2': 'test1',\n",
       "   'match': 'test2'}}}"
      ]
     },
     "execution_count": 15,
     "metadata": {},
     "output_type": "execute_result"
    }
   ],
   "source": [
    "dict12 = {\"cb_chargebacks\": {\n",
    "            \"use_cppd\": {\n",
    "                \"v1\": True,\n",
    "                \"v2\": True,\n",
    "                \"match\": True\n",
    "                }\n",
    "            }\n",
    "         }\n",
    "\n",
    "test ={\"v1\": \"Bucket Not Present\",\n",
    "        \"v2\": \"test1\",\n",
    "        \"match\": \"test2\",\n",
    "        }\n",
    "dict12.update({\"bucket\": {}})\n",
    "dict12\n",
    "dict12[\"bucket\"][\"field\"]=test\n",
    "dict12"
   ]
  },
  {
   "cell_type": "code",
   "execution_count": 10,
   "id": "6d37c59c",
   "metadata": {},
   "outputs": [
    {
     "data": {
      "text/plain": [
       "{'nfamp': {('12345678912', '202003'): 45422.04}}"
      ]
     },
     "execution_count": 10,
     "metadata": {},
     "output_type": "execute_result"
    }
   ],
   "source": [
    "lookup_prices = {}\n",
    "price_type = 'nfamp'\n",
    "lookup_prices[price_type] = {}\n",
    "lookup_prices\n",
    "key = (\"12345678912\", str(2020) + str(3).zfill(2))\n",
    "key\n",
    "lookup_prices[price_type][key] = 45422.040000\n",
    "lookup_prices"
   ]
  },
  {
   "cell_type": "code",
   "execution_count": 1,
   "id": "ee566c17",
   "metadata": {},
   "outputs": [],
   "source": [
    "import csv \n",
    "    \n",
    "# field names \n",
    "fields = ['Name', 'Branch', 'Year', 'CGPA'] \n",
    "    \n",
    "# data rows of csv file \n",
    "rows = [ ['Nikhil', 'COE', '2', '9.0'], \n",
    "         ['Sanchit', 'COE', '2', '9.1'], \n",
    "         ['Aditya', 'IT', '2', '9.3'], \n",
    "         ['Sagar', 'SE', '1', '9.5'], \n",
    "         ['Prateek', 'MCE', '3', '7.8'], \n",
    "         ['Sahil', 'EP', '2', '9.1']] \n",
    "    \n",
    "# name of csv file \n",
    "filename = \"university_records.csv\"\n",
    "    \n",
    "# writing to csv file \n",
    "with open(filename, 'w') as csvfile: \n",
    "    # creating a csv writer object \n",
    "    csvwriter = csv.writer(csvfile) \n",
    "        \n",
    "    # writing the fields \n",
    "    csvwriter.writerow(fields) \n",
    "        \n",
    "    # writing the data rows \n",
    "    csvwriter.writerows(rows)"
   ]
  },
  {
   "cell_type": "code",
   "execution_count": 3,
   "id": "1d134944",
   "metadata": {},
   "outputs": [
    {
     "name": "stdout",
     "output_type": "stream",
     "text": [
      "1\n"
     ]
    }
   ],
   "source": [
    "ratio1=True\n",
    "print(int(ratio1))"
   ]
  },
  {
   "cell_type": "code",
   "execution_count": null,
   "id": "f4ccb6d3",
   "metadata": {},
   "outputs": [],
   "source": []
  }
 ],
 "metadata": {
  "kernelspec": {
   "display_name": "Python 3",
   "language": "python",
   "name": "python3"
  },
  "language_info": {
   "codemirror_mode": {
    "name": "ipython",
    "version": 3
   },
   "file_extension": ".py",
   "mimetype": "text/x-python",
   "name": "python",
   "nbconvert_exporter": "python",
   "pygments_lexer": "ipython3",
   "version": "3.6.6"
  }
 },
 "nbformat": 4,
 "nbformat_minor": 5
}
