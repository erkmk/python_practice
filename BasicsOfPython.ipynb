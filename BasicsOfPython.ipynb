{
 "cells": [
  {
   "cell_type": "markdown",
   "metadata": {},
   "source": [
    "# Generators"
   ]
  },
  {
   "cell_type": "code",
   "execution_count": 2,
   "metadata": {},
   "outputs": [
    {
     "name": "stdout",
     "output_type": "stream",
     "text": [
      "0\n"
     ]
    }
   ],
   "source": [
    "def gen(n):\n",
    "    for i in range(n):\n",
    "        yield i\n",
    "#it has yield the value so that we can save our RAM memory.\n",
    "#Generate things as per our need\n",
    "        \n",
    "obj1 = gen(4)\n",
    "print(next(obj1))\n",
    "# print(next(obj1))\n",
    "# print(next(obj1))\n",
    "# print(next(obj1))"
   ]
  },
  {
   "cell_type": "code",
   "execution_count": 9,
   "metadata": {},
   "outputs": [
    {
     "name": "stdout",
     "output_type": "stream",
     "text": [
      "G\n",
      "F\n",
      "G\n"
     ]
    },
    {
     "ename": "StopIteration",
     "evalue": "",
     "output_type": "error",
     "traceback": [
      "\u001b[1;31m---------------------------------------------------------------------------\u001b[0m",
      "\u001b[1;31mStopIteration\u001b[0m                             Traceback (most recent call last)",
      "\u001b[1;32m<ipython-input-9-c36edae89ffd>\u001b[0m in \u001b[0;36m<module>\u001b[1;34m\u001b[0m\n\u001b[0;32m      5\u001b[0m \u001b[0mprint\u001b[0m\u001b[1;33m(\u001b[0m\u001b[0mnext\u001b[0m\u001b[1;33m(\u001b[0m\u001b[0ms\u001b[0m\u001b[1;33m)\u001b[0m\u001b[1;33m)\u001b[0m\u001b[1;33m\u001b[0m\u001b[1;33m\u001b[0m\u001b[0m\n\u001b[0;32m      6\u001b[0m \u001b[0mprint\u001b[0m\u001b[1;33m(\u001b[0m\u001b[0mnext\u001b[0m\u001b[1;33m(\u001b[0m\u001b[0ms\u001b[0m\u001b[1;33m)\u001b[0m\u001b[1;33m)\u001b[0m\u001b[1;33m\u001b[0m\u001b[1;33m\u001b[0m\u001b[0m\n\u001b[1;32m----> 7\u001b[1;33m \u001b[0mprint\u001b[0m\u001b[1;33m(\u001b[0m\u001b[0mnext\u001b[0m\u001b[1;33m(\u001b[0m\u001b[0ms\u001b[0m\u001b[1;33m)\u001b[0m\u001b[1;33m)\u001b[0m\u001b[1;33m\u001b[0m\u001b[1;33m\u001b[0m\u001b[0m\n\u001b[0m",
      "\u001b[1;31mStopIteration\u001b[0m: "
     ]
    }
   ],
   "source": [
    "# code\n",
    "s=\"GFG\"\n",
    "s=iter(s)\n",
    "print(next(s))\n",
    "print(next(s))\n",
    "print(next(s))\n",
    "print(next(s))\n"
   ]
  },
  {
   "cell_type": "code",
   "execution_count": 10,
   "metadata": {},
   "outputs": [
    {
     "name": "stdout",
     "output_type": "stream",
     "text": [
      "1\n",
      "4\n",
      "9\n",
      "16\n",
      "25\n",
      "36\n",
      "49\n",
      "64\n",
      "81\n",
      "100\n"
     ]
    }
   ],
   "source": [
    "# A Python program to generate squares from 1\n",
    "# to 10 using yield and therefore generator\n",
    "  \n",
    "# An infinite generator function that prints\n",
    "# next square number. It starts with 1\n",
    "def nextSquare():\n",
    "    i = 1\n",
    "  \n",
    "    # An Infinite loop to generate squares \n",
    "    while True:\n",
    "        yield i*i                \n",
    "        i += 1  # Next execution resumes \n",
    "                # from this point     \n",
    "  \n",
    "# Driver code to test above generator \n",
    "# function\n",
    "for num in nextSquare():\n",
    "    if num > 100:\n",
    "         break    \n",
    "    print(num)"
   ]
  },
  {
   "cell_type": "markdown",
   "metadata": {},
   "source": [
    "# Iterable"
   ]
  },
  {
   "cell_type": "code",
   "execution_count": 4,
   "metadata": {},
   "outputs": [
    {
     "name": "stdout",
     "output_type": "stream",
     "text": [
      "K\n"
     ]
    }
   ],
   "source": [
    "str = \"Khalid\"\n",
    "# for i in str:\n",
    "#     print(i)\n",
    "\n",
    "iter1 = iter(str)\n",
    "print(next(iter1))\n",
    "# print(next(iter1))\n",
    "#print(next(iter1))# it will print only one time that is 'K'"
   ]
  },
  {
   "cell_type": "markdown",
   "metadata": {},
   "source": [
    "# List Comprehension, Dictionary Comprehension and Generators Comprehension"
   ]
  },
  {
   "cell_type": "code",
   "execution_count": 12,
   "metadata": {},
   "outputs": [
    {
     "name": "stdout",
     "output_type": "stream",
     "text": [
      "without using list comprehensions [3, 3, 3, 3, 45, 54, 9, 27]\n",
      "Using List Comprehensions [3, 3, 3, 3, 45, 54, 9, 27]\n"
     ]
    }
   ],
   "source": [
    "list1 = [2,3,3,3,3,45,5,54,4,5,7,8,9,23,4,5,56,27]\n",
    "divide_by_3 = []\n",
    "for item in list1:\n",
    "    if item%3==0:\n",
    "        divide_by_3.append(item)\n",
    "print(\"without using list comprehensions\", divide_by_3)\n",
    "\n",
    "# through list comprehension we can acheive above in less line of code.\n",
    "print(\"Using List Comprehensions\", [item for item in list1 if item%3==0])\n"
   ]
  },
  {
   "cell_type": "code",
   "execution_count": 13,
   "metadata": {},
   "outputs": [
    {
     "name": "stdout",
     "output_type": "stream",
     "text": [
      "{'a': 50, 'b': 65}\n"
     ]
    }
   ],
   "source": [
    "dict1 = {'a':45, 'b':65, 'A':5}\n",
    "print({k.lower():dict1.get(k.lower(), 0) + dict1.get(k.upper(), 0) for k in dict1})"
   ]
  },
  {
   "cell_type": "markdown",
   "metadata": {},
   "source": [
    "### set comprehensions"
   ]
  },
  {
   "cell_type": "code",
   "execution_count": 14,
   "metadata": {},
   "outputs": [
    {
     "name": "stdout",
     "output_type": "stream",
     "text": [
      "{1, 4, 9, 16, 81, 49, 25}\n"
     ]
    }
   ],
   "source": [
    "squared = {x**2 for x in [1,2,3,4,4,4,4,9,5,5,7]}\n",
    "print(squared)"
   ]
  },
  {
   "cell_type": "markdown",
   "metadata": {},
   "source": [
    "### Generators Comprehensions"
   ]
  },
  {
   "cell_type": "code",
   "execution_count": 10,
   "metadata": {},
   "outputs": [
    {
     "name": "stdout",
     "output_type": "stream",
     "text": [
      "<generator object <genexpr> at 0x06022B50>\n",
      "0\n",
      "3\n",
      "6\n",
      "9\n",
      "12\n",
      "15\n",
      "18\n"
     ]
    }
   ],
   "source": [
    "'''\n",
    "iterable- object \n",
    "iterator- function who make possible to extract each element one by one.\n",
    "iteration- to iterate element one by one is called iteration\n",
    "\n",
    "Generators: it is like a iterator who can iterate or generate values only one time.'''\n",
    "gen = (i for i in range(20) if i%3==0)\n",
    "print(gen)\n",
    "for item in gen:\n",
    "    print(item)"
   ]
  },
  {
   "cell_type": "markdown",
   "metadata": {},
   "source": [
    "#### ->Lambda Function"
   ]
  },
  {
   "cell_type": "code",
   "execution_count": 16,
   "metadata": {},
   "outputs": [
    {
     "name": "stdout",
     "output_type": "stream",
     "text": [
      "sum = 30\n"
     ]
    }
   ],
   "source": [
    "#lambda argument : expression\n",
    "\n",
    "x = lambda a:a+10\n",
    "print(\"sum =\",x(20))"
   ]
  },
  {
   "cell_type": "code",
   "execution_count": 1,
   "metadata": {},
   "outputs": [
    {
     "name": "stdout",
     "output_type": "stream",
     "text": [
      "4\n",
      "10\n",
      "3\n",
      "2\n",
      "['VW', 'BMW', 'Ford', 'Mitsubishi']\n",
      "['VW', 'BMW', 'Ford', 'Mitsubishi']\n"
     ]
    }
   ],
   "source": [
    "def myFunc(a):\n",
    "    print(len(a))\n",
    "    return len(a)\n",
    "\n",
    "cars = ['Ford', 'Mitsubishi', 'BMW', 'VW']\n",
    "cars.sort(key=myFunc)\n",
    "print(cars)\n",
    "\n",
    "#Using Lambda\n",
    "cars.sort(key=lambda a : len(a))\n",
    "print(cars)"
   ]
  },
  {
   "cell_type": "markdown",
   "metadata": {},
   "source": [
    "#### Multiple argument to lambda function"
   ]
  },
  {
   "cell_type": "markdown",
   "metadata": {},
   "source": [
    "#It can accept any number of arguments and has only one expression. It is useful when the function objects are required.\n",
    "like round function take two argument..https://www.learnpython.org/en/Map,_Filter,_Reduce"
   ]
  },
  {
   "cell_type": "code",
   "execution_count": 19,
   "metadata": {},
   "outputs": [
    {
     "name": "stdout",
     "output_type": "stream",
     "text": [
      "mul= 20\n",
      "enter number for table5\n",
      "5 x 1 = 5\n",
      "5 x 2 = 10\n",
      "5 x 3 = 15\n",
      "5 x 4 = 20\n",
      "5 x 5 = 25\n",
      "5 x 6 = 30\n",
      "5 x 7 = 35\n",
      "5 x 8 = 40\n",
      "5 x 9 = 45\n",
      "5 x 10 = 50\n"
     ]
    }
   ],
   "source": [
    "x = lambda a,b : a*b\n",
    "print(\"mul=\",x(10,2))\n",
    "\n",
    "\n",
    "def table(n):\n",
    "    return lambda a : a*n   # a will contain the iteration variable i and a multiple of n is returned at each function call\n",
    "n = int(input(\"enter number for table\"))\n",
    "b = table(n)                #the entered number is passed into the function table. b will contain a lambda function which is called again and again with the iteration variable i    \n",
    "for i in range(1,11):\n",
    "    print(n,\"x\",i,\"=\",b(i)) #the lambda function b is called with the iteration variable i "
   ]
  },
  {
   "cell_type": "markdown",
   "metadata": {},
   "source": [
    "#### Using lambda function with filter function"
   ]
  },
  {
   "cell_type": "code",
   "execution_count": 2,
   "metadata": {},
   "outputs": [
    {
     "name": "stdout",
     "output_type": "stream",
     "text": [
      "(37, 41, 123, 29)\n"
     ]
    }
   ],
   "source": [
    "lst = (10,22,37,41,100,123,29) \n",
    "oddlist = tuple(filter(lambda x : (x%2!=0), lst))\n",
    "print(oddlist)"
   ]
  },
  {
   "cell_type": "markdown",
   "metadata": {},
   "source": [
    "#### Using lambda function with map function"
   ]
  },
  {
   "cell_type": "code",
   "execution_count": null,
   "metadata": {},
   "outputs": [],
   "source": []
  },
  {
   "cell_type": "code",
   "execution_count": null,
   "metadata": {},
   "outputs": [],
   "source": []
  },
  {
   "cell_type": "code",
   "execution_count": null,
   "metadata": {},
   "outputs": [],
   "source": []
  },
  {
   "cell_type": "markdown",
   "metadata": {},
   "source": [
    "#### ->Map Function\n",
    "#### map(function to apply, list of input)"
   ]
  },
  {
   "cell_type": "code",
   "execution_count": 21,
   "metadata": {},
   "outputs": [
    {
     "data": {
      "text/plain": [
       "[9, 16, 25, 64, 100]"
      ]
     },
     "execution_count": 21,
     "metadata": {},
     "output_type": "execute_result"
    }
   ],
   "source": [
    "h1 = [3,4,5,8,10]\n",
    "# sq = []\n",
    "# for item in h1:\n",
    "#     sq.append(item**2)\n",
    "# print(sq)\n",
    "#using Map\n",
    "def square(n):\n",
    "    return n**2\n",
    "\n",
    "list(map(square, h1))"
   ]
  },
  {
   "cell_type": "code",
   "execution_count": 12,
   "metadata": {},
   "outputs": [
    {
     "name": "stdout",
     "output_type": "stream",
     "text": [
      "<map object at 0x0600AC88>\n",
      "[2, 4, 6, 8]\n"
     ]
    }
   ],
   "source": [
    "def calculateAddition(n):\n",
    "    return n+n  \n",
    "  \n",
    "numbers = (1, 2, 3, 4)  \n",
    "result = map(calculateAddition, numbers)  \n",
    "print(result)  \n",
    "  \n",
    "# converting map object to set  \n",
    "numbersAddition = list(result)  \n",
    "print(numbersAddition)  "
   ]
  },
  {
   "cell_type": "code",
   "execution_count": 2,
   "metadata": {},
   "outputs": [
    {
     "name": "stdout",
     "output_type": "stream",
     "text": [
      "1234\n",
      "arr [1234]\n",
      "cmap func call [3045512]\n"
     ]
    }
   ],
   "source": [
    "def sq():\n",
    "    return lambda x:x*x\n",
    "def add():\n",
    "    return lambda x:x+x\n",
    "funcs =[sq(), add()]\n",
    "def cmap(funcs, arr):\n",
    "    result = list(map(funcs[0], arr))\n",
    "    result1 = list(map(funcs[1], result))\n",
    "    return result1\n",
    "arr = list(map(int, input().strip().split(' ')))\n",
    "print(\"arr\", arr)\n",
    "print(\"cmap func call\", cmap(funcs, arr))     "
   ]
  },
  {
   "cell_type": "code",
   "execution_count": null,
   "metadata": {},
   "outputs": [],
   "source": []
  },
  {
   "cell_type": "code",
   "execution_count": null,
   "metadata": {},
   "outputs": [],
   "source": []
  },
  {
   "cell_type": "code",
   "execution_count": 10,
   "metadata": {},
   "outputs": [
    {
     "name": "stdout",
     "output_type": "stream",
     "text": [
      "1 2 3 4\n",
      "2 8 18 32\n"
     ]
    }
   ],
   "source": [
    "def cmap(arr):\n",
    "    result = list(map(lambda x:x*x, arr))\n",
    "    result1 = list(map(lambda x:x+x, result))\n",
    "    return result1\n",
    "arr = list(map(int, input().strip().split(' ')))\n",
    "final_result = cmap(arr)\n",
    "print(*final_result)    "
   ]
  },
  {
   "cell_type": "markdown",
   "metadata": {},
   "source": [
    "## filter() "
   ]
  },
  {
   "cell_type": "code",
   "execution_count": 65,
   "metadata": {},
   "outputs": [
    {
     "name": "stdout",
     "output_type": "stream",
     "text": [
      "<filter object at 0x011D8958>\n",
      "{3, 4}\n"
     ]
    }
   ],
   "source": [
    "def calculateAddition(n):\n",
    "    if n>=3:\n",
    "        return True\n",
    "    else:\n",
    "        return False\n",
    "  \n",
    "numbers = (1, 2, 3, 4)  \n",
    "result = filter(calculateAddition, numbers)  \n",
    "print(result)  \n",
    "  \n",
    "# converting map object to set  \n",
    "numbersAddition = set(result)  \n",
    "print(numbersAddition)"
   ]
  },
  {
   "cell_type": "markdown",
   "metadata": {},
   "source": [
    "## reduce()"
   ]
  },
  {
   "cell_type": "code",
   "execution_count": 62,
   "metadata": {},
   "outputs": [
    {
     "name": "stdout",
     "output_type": "stream",
     "text": [
      "a 1\n",
      "b 2\n",
      "a 3\n",
      "b 3\n",
      "a 6\n",
      "b 4\n"
     ]
    },
    {
     "data": {
      "text/plain": [
       "10"
      ]
     },
     "execution_count": 62,
     "metadata": {},
     "output_type": "execute_result"
    }
   ],
   "source": [
    "from functools import reduce\n",
    "def sum_num(a,b):\n",
    "    print(\"a\", a)\n",
    "    print(\"b\", b)\n",
    "    return a+b\n",
    "reduce(sum_num, [1,2,3,4])\n",
    "# print(list1)"
   ]
  },
  {
   "cell_type": "markdown",
   "metadata": {},
   "source": [
    "#### **arg(tuple) and ***kwarg (dict)\n"
   ]
  },
  {
   "cell_type": "code",
   "execution_count": 25,
   "metadata": {},
   "outputs": [
    {
     "name": "stdout",
     "output_type": "stream",
     "text": [
      "<class 'tuple'>\n",
      "my name is  Khalid my age is  25\n"
     ]
    }
   ],
   "source": [
    "def function_1(*arg):\n",
    "    print(type(arg))\n",
    "    if(len(arg)==2):\n",
    "        print(\"my name is \",arg[0], \"my age is \",arg[1])\n",
    "    else:\n",
    "        print(\"my name is \",arg[0])\n",
    "list1 = [\"Khalid\", 25]\n",
    "function_1(*list1)\n"
   ]
  },
  {
   "cell_type": "code",
   "execution_count": 26,
   "metadata": {},
   "outputs": [
    {
     "name": "stdout",
     "output_type": "stream",
     "text": [
      "[1, 2, 3]\n"
     ]
    }
   ],
   "source": [
    "list1=[1,2,3]\n",
    "def f1(list1):\n",
    "    print(list1)\n",
    "f1(list1)"
   ]
  },
  {
   "cell_type": "code",
   "execution_count": 59,
   "metadata": {},
   "outputs": [
    {
     "name": "stdout",
     "output_type": "stream",
     "text": [
      "<class 'dict'>\n",
      "Khalid 91\n",
      "Umar 80\n",
      "Farid 89\n",
      "Gufran 75\n"
     ]
    }
   ],
   "source": [
    "def printmarks(**kwarg):\n",
    "    print(type(kwarg))\n",
    "    for i, j in kwarg.items():\n",
    "        print(i, j)\n",
    "        \n",
    "marksheet = {\"Khalid\":91, \"Umar\":80, \"Farid\":89, \"Gufran\":75}\n",
    "printmarks(**marksheet)"
   ]
  },
  {
   "cell_type": "markdown",
   "metadata": {},
   "source": [
    "### Decorators"
   ]
  },
  {
   "cell_type": "code",
   "execution_count": 11,
   "metadata": {},
   "outputs": [
    {
     "data": {
      "text/plain": [
       "2.0"
      ]
     },
     "execution_count": 11,
     "metadata": {},
     "output_type": "execute_result"
    }
   ],
   "source": [
    "#Decorators\n",
    "def function_1(func):\n",
    "    def check(a,b):\n",
    "        if b==0:\n",
    "            print(\"don not put b is 0\")\n",
    "        else:\n",
    "            return func(a,b)\n",
    "    return check\n",
    "            \n",
    "#@function_1\n",
    "def div(a,b):\n",
    "    c=a/b\n",
    "    return c\n",
    "div1 = function_1(div)\n",
    "div1(4,2)"
   ]
  },
  {
   "cell_type": "code",
   "execution_count": 29,
   "metadata": {},
   "outputs": [],
   "source": [
    "# def div(a,b):\n",
    "#     c=a/b\n",
    "#     return c\n",
    "# print(div(4,0))"
   ]
  },
  {
   "cell_type": "markdown",
   "metadata": {},
   "source": [
    "## Advance Slicing"
   ]
  },
  {
   "cell_type": "code",
   "execution_count": 52,
   "metadata": {},
   "outputs": [
    {
     "name": "stdout",
     "output_type": "stream",
     "text": [
      "[5, 4, 3, 2, 1]\n",
      "malayalaM\n",
      "[1, 3, 5]\n"
     ]
    }
   ],
   "source": [
    "list1=[1,2,3,4,5]\n",
    "print(list1[::-1])\n",
    "str1=\"Malayalam\"\n",
    "print(str1[::-1])\n",
    "\n",
    "print(list1[::2]) #steping"
   ]
  },
  {
   "cell_type": "code",
   "execution_count": 30,
   "metadata": {},
   "outputs": [],
   "source": [
    "#to reverse the list, list[::-1]\n",
    "#to use steping in list use, list1[::2] it will print first element[0] and skip second element[1] and print third element[3] "
   ]
  },
  {
   "cell_type": "markdown",
   "metadata": {},
   "source": [
    "## bisect module in Python"
   ]
  },
  {
   "cell_type": "code",
   "execution_count": 49,
   "metadata": {},
   "outputs": [
    {
     "name": "stdout",
     "output_type": "stream",
     "text": [
      "3\n",
      "[1, 2, 4, 5, 7, 8, 9, 34, 45, 333, 455]\n"
     ]
    }
   ],
   "source": [
    "# bisect tell you where you have to insert your number so that your list will be sorted\n",
    "import bisect\n",
    "number = 5\n",
    "list1 = [1,2,4,7,8,9,34,45,333,455]\n",
    "print(bisect.bisect(list1, number))\n",
    "# then to insort at the given position use bisect.insort\n",
    "bisect.insort(list1, number)\n",
    "print(list1)\n",
    "\n",
    "# Note: bisect module assume that your list are sorted.Your list should be before apply bisect."
   ]
  },
  {
   "cell_type": "markdown",
   "metadata": {},
   "source": [
    "## enumerate function"
   ]
  },
  {
   "cell_type": "code",
   "execution_count": 46,
   "metadata": {},
   "outputs": [
    {
     "name": "stdout",
     "output_type": "stream",
     "text": [
      "(0, 'a')\n",
      "(1, 'b')\n",
      "(2, 'c')\n",
      "(3, 'd')\n",
      "(4, 'e')\n",
      "(5, 'f')\n",
      "(6, 'g')\n",
      "i 0\n",
      "item 1\n",
      "i 1\n",
      "item 2\n",
      "i 2\n",
      "item 34\n",
      "i 3\n",
      "item 4\n",
      "i 4\n",
      "item 5\n",
      "i 5\n",
      "item 7\n",
      "i 6\n",
      "item 455\n",
      "i 7\n",
      "item 9\n",
      "i 8\n",
      "item 555\n",
      "i 9\n",
      "item 45\n",
      "i 10\n",
      "item 333\n",
      "i 11\n",
      "item 666\n"
     ]
    }
   ],
   "source": [
    "# print(list1)\n",
    "# for i, item in enumerate(list1):\n",
    "# #     print(\"i\", i)\n",
    "# #     print(\"item\", item)\n",
    "#     if (i+1)%2==0:\n",
    "#         print(item)\n",
    "        \n",
    "'''do not need to declare i=0 variable, but in conventional way we need initialize so to overcome this we used enumerate,\n",
    "will line of code.'''\n",
    "\n",
    "# it can apply indexing on any iterable object\n",
    "# we get back of output in tuple form\n",
    "word = \"abcdefg\"\n",
    "for i in enumerate(word):\n",
    "    print(i)\n",
    "    \n"
   ]
  },
  {
   "cell_type": "markdown",
   "metadata": {},
   "source": [
    "## .join Function"
   ]
  },
  {
   "cell_type": "code",
   "execution_count": 33,
   "metadata": {},
   "outputs": [
    {
     "name": "stdout",
     "output_type": "stream",
     "text": [
      "chalk and Duster and Board and Back Benchers\n"
     ]
    }
   ],
   "source": [
    "sample_list = [\"chalk\", \"Duster\", \"Board\", \"Back Benchers\"]\n",
    "# for item in sample_list:\n",
    "#     if item != \"Back Benchers\":\n",
    "#         print (item, \"and \", end=\"\")\n",
    "#     else:\n",
    "#         print(item)\n",
    "\n",
    "print(\" and \".join(sample_list))"
   ]
  },
  {
   "cell_type": "markdown",
   "metadata": {},
   "source": [
    "## zip function"
   ]
  },
  {
   "cell_type": "code",
   "execution_count": 35,
   "metadata": {},
   "outputs": [
    {
     "name": "stdout",
     "output_type": "stream",
     "text": [
      "(1, 'a')\n",
      "(2, 'b')\n",
      "(3, 'c')\n",
      "[(1, 'a'), (2, 'b'), (3, 'c')]\n",
      "a\n"
     ]
    }
   ],
   "source": [
    "# zip together two or more list or pair up two or more items\n",
    "# we get back of output in tuple form\n",
    "x = [1, 2, 3]\n",
    "y = ['a', 'b', 'c']\n",
    "#zip(x,y) only give memory location\n",
    "for item in zip(x,y):\n",
    "    print(item)\n",
    "\n",
    "'''a common question: what happens if these list are uneven?\n",
    "it will unzip only the list that is the shortest one.'''\n",
    "#we can also cast zip as a list\n",
    "# list(zip(x,y))\n",
    "# list(zip(x,y))[0][1]\n",
    "\n",
    "var = list(zip(x,y))\n",
    "print(var)\n",
    "print(var[0][1])\n",
    "#print(ab)"
   ]
  },
  {
   "cell_type": "markdown",
   "metadata": {},
   "source": [
    "## in operator"
   ]
  },
  {
   "cell_type": "code",
   "execution_count": 38,
   "metadata": {},
   "outputs": [
    {
     "data": {
      "text/plain": [
       "False"
      ]
     },
     "execution_count": 38,
     "metadata": {},
     "output_type": "execute_result"
    }
   ],
   "source": [
    "'x' in [1,2,3]"
   ]
  },
  {
   "cell_type": "code",
   "execution_count": 37,
   "metadata": {},
   "outputs": [
    {
     "data": {
      "text/plain": [
       "True"
      ]
     },
     "execution_count": 37,
     "metadata": {},
     "output_type": "execute_result"
    }
   ],
   "source": [
    "'x' in ['x', 'y', 'z']"
   ]
  },
  {
   "cell_type": "code",
   "execution_count": 39,
   "metadata": {},
   "outputs": [
    {
     "data": {
      "text/plain": [
       "True"
      ]
     },
     "execution_count": 39,
     "metadata": {},
     "output_type": "execute_result"
    }
   ],
   "source": [
    "\"a\" in \"a world\""
   ]
  },
  {
   "cell_type": "code",
   "execution_count": 41,
   "metadata": {},
   "outputs": [
    {
     "data": {
      "text/plain": [
       "True"
      ]
     },
     "execution_count": 41,
     "metadata": {},
     "output_type": "execute_result"
    }
   ],
   "source": [
    "\"mykey\" in {\"mykey\":345}"
   ]
  },
  {
   "cell_type": "code",
   "execution_count": 46,
   "metadata": {},
   "outputs": [
    {
     "data": {
      "text/plain": [
       "True"
      ]
     },
     "execution_count": 46,
     "metadata": {},
     "output_type": "execute_result"
    }
   ],
   "source": [
    "#or to the check the value\n",
    "d = {\"mykey\":345}\n",
    "345 in d.values()\n",
    "#\"mykey\" in d.keys()"
   ]
  },
  {
   "cell_type": "markdown",
   "metadata": {},
   "source": [
    "## random library"
   ]
  },
  {
   "cell_type": "code",
   "execution_count": 49,
   "metadata": {},
   "outputs": [],
   "source": [
    "from random import shuffle, randint\n",
    "#shuffle is not returnable function"
   ]
  },
  {
   "cell_type": "code",
   "execution_count": 58,
   "metadata": {},
   "outputs": [
    {
     "data": {
      "text/plain": [
       "16"
      ]
     },
     "execution_count": 58,
     "metadata": {},
     "output_type": "execute_result"
    }
   ],
   "source": [
    "randint(0,20)"
   ]
  },
  {
   "cell_type": "code",
   "execution_count": 20,
   "metadata": {},
   "outputs": [
    {
     "data": {
      "text/plain": [
       "'0b10'"
      ]
     },
     "execution_count": 20,
     "metadata": {},
     "output_type": "execute_result"
    }
   ],
   "source": [
    "#binary function\n",
    "def add_binary(a,b):\n",
    "    #your code here\n",
    "    #c = a+b\n",
    "    return bin(a+b)\n",
    "add_binary(1,1)"
   ]
  },
  {
   "cell_type": "code",
   "execution_count": 1,
   "metadata": {},
   "outputs": [],
   "source": [
    "lst = [1,2,3]"
   ]
  },
  {
   "cell_type": "code",
   "execution_count": 2,
   "metadata": {},
   "outputs": [
    {
     "data": {
      "text/plain": [
       "1"
      ]
     },
     "execution_count": 2,
     "metadata": {},
     "output_type": "execute_result"
    }
   ],
   "source": [
    "lst.count(2)"
   ]
  },
  {
   "cell_type": "code",
   "execution_count": 3,
   "metadata": {},
   "outputs": [
    {
     "name": "stdout",
     "output_type": "stream",
     "text": [
      "sss\n",
      "abcabcabc\n"
     ]
    }
   ],
   "source": [
    "list1 = [1, \"s\", 2, 3]\n",
    "print(list1[3]*list1[1])\n",
    "\n",
    "print(3*\"abc\")\n"
   ]
  },
  {
   "cell_type": "code",
   "execution_count": 19,
   "metadata": {},
   "outputs": [
    {
     "name": "stdout",
     "output_type": "stream",
     "text": [
      "Ford\n",
      "Mitsubishi\n",
      "BMW\n",
      "VW\n",
      "['VW', 'BMW', 'Ford', 'Mitsubishi']\n"
     ]
    }
   ],
   "source": [
    "def myFunc(a):\n",
    "    print(a)\n",
    "    return len(a)\n",
    "\n",
    "cars = ['Ford', 'Mitsubishi', 'BMW', 'VW']\n",
    "\n",
    "cars.sort(key=myFunc)\n",
    "print(cars)"
   ]
  },
  {
   "cell_type": "code",
   "execution_count": 4,
   "metadata": {},
   "outputs": [
    {
     "name": "stdout",
     "output_type": "stream",
     "text": [
      "{'car': 'Ford', 'year': 2005}\n",
      "{'car': 'Mitsubishi', 'year': 2000}\n",
      "{'car': 'BMW', 'year': 2019}\n",
      "{'car': 'VW', 'year': 2011}\n",
      "[{'car': 'BMW', 'year': 2019}, {'car': 'Ford', 'year': 2005}, {'car': 'Mitsubishi', 'year': 2000}, {'car': 'VW', 'year': 2011}]\n"
     ]
    }
   ],
   "source": [
    "def myfunc(e):\n",
    "    print(e)\n",
    "    return e['car'], e['car']\n",
    "\n",
    "cars = [\n",
    "  {'car': 'Ford', 'year': 2005},\n",
    "  {'car': 'Mitsubishi', 'year': 2000},\n",
    "  {'car': 'BMW', 'year': 2019},\n",
    "  {'car': 'VW', 'year': 2011}\n",
    "] \n",
    "\n",
    "cars.sort(key=myfunc)\n",
    "\n",
    "print(cars)"
   ]
  },
  {
   "cell_type": "code",
   "execution_count": 22,
   "metadata": {},
   "outputs": [
    {
     "name": "stdout",
     "output_type": "stream",
     "text": [
      "The list printed sorting by age: \n",
      "\r\n",
      "[{'name': 'Nikhil', 'age': 19}, {'name': 'Manjeet', 'age': 20}, {'name': 'Nandini', 'age': 20}]\n"
     ]
    }
   ],
   "source": [
    "# Initializing list of dictionaries\n",
    "lis = [{ \"name\" : \"Nandini\", \"age\" : 20},\n",
    "{ \"name\" : \"Manjeet\", \"age\" : 20 },\n",
    "{ \"name\" : \"Nikhil\" , \"age\" : 19 }]\n",
    " \n",
    "# using sorted and lambda to print list sorted\n",
    "# by age\n",
    "print(\"The list printed sorting by age: \")\n",
    "# lis.sort(key = lambda i: i['age'])\n",
    "# print(lis)\n",
    " \n",
    "print (\"\\r\")\n",
    " \n",
    "# using sorted and lambda to print list sorted\n",
    "# by both age and name. Notice that \"Manjeet\"\n",
    "# now comes before \"Nandini\"\n",
    "# print(\"The list printed sorting by age and name: \")\n",
    "print(sorted(lis, key = lambda i: (i['age'], i['name'])))\n",
    "# lis.sort(key = lambda i: (i['age'], i['name']))\n",
    "# print(lis)\n",
    " \n",
    "# print(\"\\r\")\n",
    " \n",
    "# using sorted and lambda to print list sorted\n",
    "# by age in descending order\n",
    "# print(\"The list printed sorting by age in descending order: \")\n",
    "# print(sort(lis, key = lambda i: i['age'],reverse=True))"
   ]
  },
  {
   "cell_type": "markdown",
   "metadata": {},
   "source": [
    "### fabonachchi series for nth and finding even or"
   ]
  },
  {
   "cell_type": "code",
   "execution_count": 1,
   "metadata": {},
   "outputs": [
    {
     "name": "stdout",
     "output_type": "stream",
     "text": [
      "type number6\n",
      "sum 0\n",
      "sum 1\n",
      "sum 1\n",
      "sum 2\n",
      "sum 3\n",
      "sum 5\n"
     ]
    }
   ],
   "source": [
    "#fabonachchi series for nth and finding even or \n",
    "n = int(input(\"type number\"))\n",
    "a=0\n",
    "b=1\n",
    "sum=0\n",
    "# count = 1\n",
    "while(sum<=n):\n",
    "    print(\"sum\", sum)\n",
    "#     if sum%2==0:\n",
    "#         print(\"even\", sum)\n",
    "#     count +=1\n",
    "#     print(\"count\", count)\n",
    "    a=b\n",
    "#     print(\"ab\", a, b)\n",
    "    b=sum\n",
    "#     print(\"b\",b)    \n",
    "    sum =a+b\n",
    "#     print(\"sum2\", sum)\n",
    "    \n",
    "    \n",
    "    "
   ]
  },
  {
   "cell_type": "markdown",
   "metadata": {},
   "source": [
    "## Palendrom word"
   ]
  },
  {
   "cell_type": "code",
   "execution_count": 8,
   "metadata": {},
   "outputs": [
    {
     "name": "stdout",
     "output_type": "stream",
     "text": [
      "enter the wordfasfasdf\n",
      "the given word is not palendrom\n"
     ]
    }
   ],
   "source": [
    "# MALA Y ALAM\n",
    "\n",
    "word = input(\"enter the word\")\n",
    "\n",
    "def check(string):\n",
    "    return string == string[::-1] #double :: take the element and -1 make it reverse\n",
    "#         return print(\"the given word is palendrom\")\n",
    "#     else:\n",
    "#         return print(\"the given word is not palendrom\")\n",
    "func = check(word)\n",
    "if func:\n",
    "    print(\"the given word is palendrom\")\n",
    "else:\n",
    "    print(\"the given word is not palendrom\")"
   ]
  },
  {
   "cell_type": "code",
   "execution_count": 12,
   "metadata": {},
   "outputs": [
    {
     "name": "stdout",
     "output_type": "stream",
     "text": [
      "abcdabc\n"
     ]
    }
   ],
   "source": [
    "str1= \"abcdabc\"\n",
    "var=str1[::1]\n",
    "print(var)"
   ]
  },
  {
   "cell_type": "code",
   "execution_count": 30,
   "metadata": {},
   "outputs": [
    {
     "name": "stdout",
     "output_type": "stream",
     "text": [
      "[2, 4, 6, 8]\n"
     ]
    }
   ],
   "source": [
    "a=[1,2,3,4,5,6,7,8]\n",
    "odd = lambda a : [i for i in a if i%2==0]\n",
    "print(odd(a))"
   ]
  },
  {
   "cell_type": "code",
   "execution_count": 24,
   "metadata": {},
   "outputs": [
    {
     "data": {
      "text/plain": [
       "5"
      ]
     },
     "execution_count": 24,
     "metadata": {},
     "output_type": "execute_result"
    }
   ],
   "source": [
    "4 | 5"
   ]
  },
  {
   "cell_type": "code",
   "execution_count": 20,
   "metadata": {},
   "outputs": [
    {
     "name": "stdout",
     "output_type": "stream",
     "text": [
      "Fizz\n",
      "Buzz\n",
      "Fizz\n",
      "Buzz\n",
      "Fizz\n"
     ]
    },
    {
     "data": {
      "text/plain": [
       "[None, None, None, None, None]"
      ]
     },
     "execution_count": 20,
     "metadata": {},
     "output_type": "execute_result"
    }
   ],
   "source": [
    "data=[1,2,3,66,7]\n",
    "c=[print(\"Buzz\") if a%2==0 else print(\"Fizz\") for a in data]\n",
    "c"
   ]
  },
  {
   "cell_type": "code",
   "execution_count": 2,
   "metadata": {},
   "outputs": [
    {
     "name": "stdout",
     "output_type": "stream",
     "text": [
      "{'xyz': 78}\n"
     ]
    }
   ],
   "source": [
    "student = {\"abc\":{\"score\": 67}, \"xyz\":{\"score\": 78}, \"kbc\":{\"score\": 17}}\n",
    "\n",
    "\n",
    "def largest():\n",
    "    max=0\n",
    "    stud = ''\n",
    "    for i in student:\n",
    "        score = student.get(i)[\"score\"]\n",
    "        if score>max:\n",
    "            max=score\n",
    "            stud = i\n",
    "    return {stud:max}\n",
    "\n",
    "print(largest())"
   ]
  },
  {
   "cell_type": "code",
   "execution_count": 3,
   "metadata": {},
   "outputs": [
    {
     "name": "stdout",
     "output_type": "stream",
     "text": [
      "Largest in given array  9808\n"
     ]
    }
   ],
   "source": [
    "def largest():\n",
    " \n",
    "    max = arr[0]\n",
    " \n",
    "    for i in arr:\n",
    "        if i > max:\n",
    "            max = i\n",
    "    return max\n",
    " \n",
    " \n",
    "arr = [10, 324, 45, 90, 9808]\n",
    "n = len(arr)\n",
    "Ans = largest()\n",
    "print(\"Largest in given array \", Ans)"
   ]
  },
  {
   "cell_type": "code",
   "execution_count": 4,
   "metadata": {},
   "outputs": [],
   "source": [
    "#search in dictionary\n"
   ]
  },
  {
   "cell_type": "code",
   "execution_count": null,
   "metadata": {},
   "outputs": [],
   "source": []
  }
 ],
 "metadata": {
  "kernelspec": {
   "display_name": "Python 3",
   "language": "python",
   "name": "python3"
  },
  "language_info": {
   "codemirror_mode": {
    "name": "ipython",
    "version": 3
   },
   "file_extension": ".py",
   "mimetype": "text/x-python",
   "name": "python",
   "nbconvert_exporter": "python",
   "pygments_lexer": "ipython3",
   "version": "3.6.6"
  }
 },
 "nbformat": 4,
 "nbformat_minor": 4
}
