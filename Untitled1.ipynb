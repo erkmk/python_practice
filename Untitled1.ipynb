{
 "cells": [
  {
   "cell_type": "code",
   "execution_count": 1,
   "id": "362f2dc6",
   "metadata": {},
   "outputs": [
    {
     "name": "stdout",
     "output_type": "stream",
     "text": [
      "No of Theive3\n",
      "No of Gold20\n",
      "thiefIndex 0\n",
      "Index doesn't exist!\n"
     ]
    },
    {
     "ename": "IndexError",
     "evalue": "list index out of range",
     "output_type": "error",
     "traceback": [
      "\u001b[1;31m---------------------------------------------------------------------------\u001b[0m",
      "\u001b[1;31mIndexError\u001b[0m                                Traceback (most recent call last)",
      "\u001b[1;32m<ipython-input-1-5a1ea4283750>\u001b[0m in \u001b[0;36m<module>\u001b[1;34m\u001b[0m\n\u001b[0;32m     19\u001b[0m         \u001b[0mcoinsToGive\u001b[0m \u001b[1;33m=\u001b[0m \u001b[0mtotalCoins\u001b[0m\u001b[1;33m\u001b[0m\u001b[0m\n\u001b[0;32m     20\u001b[0m \u001b[1;33m\u001b[0m\u001b[0m\n\u001b[1;32m---> 21\u001b[1;33m     \u001b[0mdata\u001b[0m\u001b[1;33m[\u001b[0m\u001b[0mthiefIndex\u001b[0m\u001b[1;33m]\u001b[0m \u001b[1;33m+=\u001b[0m \u001b[0mcoinsToGive\u001b[0m\u001b[1;33m\u001b[0m\u001b[0m\n\u001b[0m\u001b[0;32m     22\u001b[0m     \u001b[0mtotalCoins\u001b[0m \u001b[1;33m-=\u001b[0m \u001b[0mcoinsToGive\u001b[0m\u001b[1;33m\u001b[0m\u001b[0m\n\u001b[0;32m     23\u001b[0m     \u001b[0mcoins\u001b[0m \u001b[1;33m+=\u001b[0m\u001b[1;36m1\u001b[0m\u001b[1;33m\u001b[0m\u001b[0m\n",
      "\u001b[1;31mIndexError\u001b[0m: list index out of range"
     ]
    }
   ],
   "source": [
    "numt = int(input(\"No of Theive\"))\n",
    "totalCoins = int(input(\"No of Gold\"))\n",
    "data = []\n",
    "coins = 0\n",
    "while totalCoins > 0:\n",
    "    thiefIndex = (coins % numt)\n",
    "    print(\"thiefIndex\", thiefIndex)\n",
    "    try:\n",
    "        data[thiefIndex]\n",
    "    except IndexError:\n",
    "        print(\"Index doesn't exist!\")\n",
    "#     gotdata = data[thiefIndex] if len(data) > 0 else data.append(0)\n",
    "#     data[thiefIndex] = 0\n",
    "#     if data[thiefIndex] is None:\n",
    "#         data[thiefIndex] = 0 #Every thief starts with 0 coins\n",
    "    \n",
    "    coinsToGive = coins + 1\n",
    "    if totalCoins < coinsToGive:\n",
    "        coinsToGive = totalCoins\n",
    "    \n",
    "    data[thiefIndex] += coinsToGive\n",
    "    totalCoins -= coinsToGive\n",
    "    coins +=1\n",
    "    print(data)\n",
    "    \n",
    "# print(data)"
   ]
  },
  {
   "cell_type": "code",
   "execution_count": 32,
   "id": "e3217c30",
   "metadata": {},
   "outputs": [
    {
     "data": {
      "text/plain": [
       "0"
      ]
     },
     "execution_count": 32,
     "metadata": {},
     "output_type": "execute_result"
    }
   ],
   "source": [
    "data1=[]\n",
    "# try:\n",
    "#     data1[0]\n",
    "# except:\n",
    "#     print(\"e\")\n",
    "#     data1.append(0)\n",
    "\n",
    "len(data1)"
   ]
  },
  {
   "cell_type": "code",
   "execution_count": 1,
   "id": "2b63dcb1",
   "metadata": {},
   "outputs": [],
   "source": [
    "def mth_fmt(year, val):\n",
    "        return str(year) + str(val).zfill(2)"
   ]
  },
  {
   "cell_type": "code",
   "execution_count": 2,
   "id": "cc427b95",
   "metadata": {},
   "outputs": [
    {
     "data": {
      "text/plain": [
       "'202103'"
      ]
     },
     "execution_count": 2,
     "metadata": {},
     "output_type": "execute_result"
    }
   ],
   "source": [
    "period = \"202101\"\n",
    "offset = -1\n",
    "max_val = 12\n",
    "year, val = int(period[:4]), int(period[4:])\n",
    "fmt = mth_fmt\n",
    "\n",
    "val = val - 1 + offset\n",
    "year = year + val // max_val\n",
    "val = val % max_val + 1\n",
    "fmt(year, val)"
   ]
  },
  {
   "cell_type": "code",
   "execution_count": 16,
   "id": "c54796df",
   "metadata": {},
   "outputs": [
    {
     "data": {
      "text/plain": [
       "-16"
      ]
     },
     "execution_count": 16,
     "metadata": {},
     "output_type": "execute_result"
    }
   ],
   "source": [
    "price_type_offset = -12\n",
    "price_type_offset -= 4\n",
    "price_type_offset"
   ]
  },
  {
   "cell_type": "code",
   "execution_count": 4,
   "id": "41789c7b",
   "metadata": {},
   "outputs": [
    {
     "data": {
      "text/plain": [
       "datetime.datetime(2022, 9, 14, 16, 40, 17, 349000)"
      ]
     },
     "execution_count": 4,
     "metadata": {},
     "output_type": "execute_result"
    }
   ],
   "source": [
    "from datetime import datetime\n",
    "datetime.now()"
   ]
  },
  {
   "cell_type": "code",
   "execution_count": 2,
   "id": "71acaccc",
   "metadata": {},
   "outputs": [],
   "source": [
    "from jsonify import convert\n",
    "convert.jsonify('sample.csv')"
   ]
  },
  {
   "cell_type": "code",
   "execution_count": 32,
   "id": "602618ba",
   "metadata": {},
   "outputs": [],
   "source": [
    "data21=[{\"rebates\": {\n",
    "            \"errors\": [],\n",
    "            \"enabled\": True,\n",
    "            \"name\": \"rebates\",\n",
    "            \"reportable\": True,\n",
    "            \"ordering\": 8,\n",
    "            \"summary\": True,\n",
    "            \"id\": 606,\n",
    "            \"group_key\": None,\n",
    "            \"variance_threshold_unit\": \"0.0000\",\n",
    "            \"dollar_type\": \"NET_AMOUNT\",\n",
    "            \"unbucketed\": False,\n",
    "            \"calc_group\": \"STANDARD\",\n",
    "            \"derived\": False,\n",
    "            \"labeler_variances\": [],\n",
    "            \"source\": \"REB\",\n",
    "            \"value\": \"1 = 1\",\n",
    "            \"summary_variance\": False,\n",
    "            \"value_period\": \"DEFAULT\",\n",
    "            \"variance_threshold_dollar\": \"0.0000\",\n",
    "            \"price_type_id\": 22,\n",
    "            \"reportable_name\": \"Rebates\",\n",
    "            \"use_cppd\": False,\n",
    "            \"allow_overlap\": False,\n",
    "            \"logic_master_id\": None,\n",
    "            \"_type\": \"BUCKET\",\n",
    "            \"type\": \"Bucket (REB)\"\n",
    "        },\n",
    "        \"cb_chargebacks\": {\n",
    "            \"errors\": [],\n",
    "            \"enabled\": True,\n",
    "            \"name\": \"cb_chargebacks\",\n",
    "            \"reportable\": False,\n",
    "            \"ordering\": 1,\n",
    "            \"summary\": False,\n",
    "            \"id\": 613,\n",
    "            \"group_key\": None,\n",
    "            \"variance_threshold_unit\": \"0.0000\",\n",
    "            \"dollar_type\": \"NET_AMOUNT\",\n",
    "            \"unbucketed\": False,\n",
    "            \"calc_group\": \"STANDARD\",\n",
    "            \"derived\": False,\n",
    "            \"labeler_variances\": [],\n",
    "            \"source\": \"DS\",\n",
    "            \"value\": \"TransType.Class = 'cb'\",\n",
    "            \"summary_variance\": False,\n",
    "            \"value_period\": \"DEFAULT\",\n",
    "            \"variance_threshold_dollar\": \"0.0000\",\n",
    "            \"price_type_id\": 22,\n",
    "            \"reportable_name\": \"CB Chargebacks\",\n",
    "            \"use_cppd\": False,\n",
    "            \"allow_overlap\": False,\n",
    "            \"logic_master_id\": None,\n",
    "            \"_type\": \"BUCKET\",\n",
    "            \"type\": \"Bucket (DS)\"\n",
    "        }}]\n",
    "\n",
    "data31=[{\"rebates\": {\n",
    "            \"errors\": [],\n",
    "            \"enabled\": True,\n",
    "            \"name\": \"rebates\",\n",
    "            \"reportable\": True,\n",
    "            \"ordering\": 8,\n",
    "            \"summary\": False,\n",
    "            \"id\": 606,\n",
    "            \"group_key\": None,\n",
    "            \"variance_threshold_unit\": \"0.0000\",\n",
    "            \"dollar_type\": \"NET_AMOUNT\",\n",
    "            \"unbucketed\": False,\n",
    "            \"calc_group\": \"STANDARD\",\n",
    "            \"derived\": False,\n",
    "            \"labeler_variances\": [],\n",
    "            \"source\": \"REB\",\n",
    "            \"value\": \"1 = 1\",\n",
    "            \"summary_variance\": False,\n",
    "            \"value_period\": \"DEFAULT\",\n",
    "            \"variance_threshold_dollar\": \"0.0000\",\n",
    "            \"price_type_id\": 22,\n",
    "            \"reportable_name\": \"Rebates\",\n",
    "            \"use_cppd\": False,\n",
    "            \"allow_overlap\": False,\n",
    "            \"logic_master_id\": None,\n",
    "            \"_type\": \"BUCKET\",\n",
    "            \"type\": \"Bucket (REB)\"\n",
    "        },\n",
    "        \"cb_chargebacks\": {\n",
    "            \"errors\": [],\n",
    "            \"enabled\": True,\n",
    "            \"name\": \"cb_chargebacks\",\n",
    "            \"reportable\": True,\n",
    "            \"ordering\": 1,\n",
    "            \"summary\": True,\n",
    "            \"id\": 613,\n",
    "            \"group_key\": None,\n",
    "            \"variance_threshold_unit\": \"0.0000\",\n",
    "            \"dollar_type\": \"NET_AMOUNT\",\n",
    "            \"unbucketed\": False,\n",
    "            \"calc_group\": \"STANDARD\",\n",
    "            \"derived\": False,\n",
    "            \"labeler_variances\": [],\n",
    "            \"source\": \"DS\",\n",
    "            \"value\": \"TransType.Class = 'cb'\",\n",
    "            \"summary_variance\": False,\n",
    "            \"value_period\": \"DEFAULT\",\n",
    "            \"variance_threshold_dollar\": \"0.0000\",\n",
    "            \"price_type_id\": 22,\n",
    "            \"reportable_name\": \"CB Chargebacks\",\n",
    "            \"use_cppd\": False,\n",
    "            \"allow_overlap\": False,\n",
    "            \"logic_master_id\": None,\n",
    "            \"_type\": \"BUCKET\",\n",
    "            \"type\": \"Bucket (DS)\"\n",
    "        }}]"
   ]
  },
  {
   "cell_type": "code",
   "execution_count": 33,
   "id": "33a6cbb4",
   "metadata": {},
   "outputs": [
    {
     "name": "stdout",
     "output_type": "stream",
     "text": [
      "match\n",
      "summary not match\n",
      "match\n",
      "match\n",
      "match\n",
      "reportable not match\n",
      "summary not match\n",
      "match\n",
      "match\n",
      "match\n"
     ]
    },
    {
     "data": {
      "text/plain": [
       "[{'rebates': {'errors': [],\n",
       "   'enabled': True,\n",
       "   'name': 'rebates',\n",
       "   'reportable': True,\n",
       "   'ordering': 8,\n",
       "   'summary': {'v1': True, 'v2': False},\n",
       "   'id': 606,\n",
       "   'group_key': None,\n",
       "   'variance_threshold_unit': '0.0000',\n",
       "   'dollar_type': 'NET_AMOUNT',\n",
       "   'unbucketed': False,\n",
       "   'calc_group': 'STANDARD',\n",
       "   'derived': False,\n",
       "   'labeler_variances': [],\n",
       "   'source': 'REB',\n",
       "   'value': '1 = 1',\n",
       "   'summary_variance': False,\n",
       "   'value_period': 'DEFAULT',\n",
       "   'variance_threshold_dollar': '0.0000',\n",
       "   'price_type_id': 22,\n",
       "   'reportable_name': 'Rebates',\n",
       "   'use_cppd': False,\n",
       "   'allow_overlap': False,\n",
       "   'logic_master_id': None,\n",
       "   '_type': 'BUCKET',\n",
       "   'type': 'Bucket (REB)',\n",
       "   'match': False},\n",
       "  'cb_chargebacks': {'errors': [],\n",
       "   'enabled': True,\n",
       "   'name': 'cb_chargebacks',\n",
       "   'reportable': {'v1': False, 'v2': True},\n",
       "   'ordering': 1,\n",
       "   'summary': {'v1': False, 'v2': True},\n",
       "   'id': 613,\n",
       "   'group_key': None,\n",
       "   'variance_threshold_unit': '0.0000',\n",
       "   'dollar_type': 'NET_AMOUNT',\n",
       "   'unbucketed': False,\n",
       "   'calc_group': 'STANDARD',\n",
       "   'derived': False,\n",
       "   'labeler_variances': [],\n",
       "   'source': 'DS',\n",
       "   'value': \"TransType.Class = 'cb'\",\n",
       "   'summary_variance': False,\n",
       "   'value_period': 'DEFAULT',\n",
       "   'variance_threshold_dollar': '0.0000',\n",
       "   'price_type_id': 22,\n",
       "   'reportable_name': 'CB Chargebacks',\n",
       "   'use_cppd': False,\n",
       "   'allow_overlap': False,\n",
       "   'logic_master_id': None,\n",
       "   '_type': 'BUCKET',\n",
       "   'type': 'Bucket (DS)',\n",
       "   'match': False}}]"
      ]
     },
     "execution_count": 33,
     "metadata": {},
     "output_type": "execute_result"
    }
   ],
   "source": [
    "buck_keys = ['rebates', 'cb_chargebacks']\n",
    "buck_f_keys = ['reportable', 'summary', 'calc_group', 'summary_variance', 'variance_threshold_dollar']\n",
    "for bk in buck_keys:\n",
    "    if data21[0].get(bk) == data31[0].get(bk):\n",
    "        data21[0][bk]['match']=True\n",
    "    else:\n",
    "        data21[0][bk]['match']=False\n",
    "        for fk in buck_f_keys:\n",
    "            if data21[0][bk].get(fk)==data31[0][bk].get(fk):\n",
    "                print(\"match\")\n",
    "            else:\n",
    "                print(fk,\"not match\")\n",
    "                data21[0][bk][fk] = {\"v1\":data21[0][bk].get(fk), \"v2\":data31[0][bk].get(fk)}\n",
    "data21"
   ]
  },
  {
   "cell_type": "code",
   "execution_count": 34,
   "id": "b5281dc0",
   "metadata": {},
   "outputs": [
    {
     "name": "stdout",
     "output_type": "stream",
     "text": [
      "[10, 75, 69]\n",
      "Lists l1 and l3 are not equal\n"
     ]
    }
   ],
   "source": [
    "l1 = [10, 20, 30, 40, 50] \n",
    "l3 = [50, 75, 30, 20, 40, 69] \n",
    "\n",
    "res = [x for x in l1 + l3 if x not in l1 or x not in l3]\n",
    "\n",
    "print(res)\n",
    "if not res:\n",
    "    print(\"Lists l1 and l3 are equal\")\n",
    "else:\n",
    "    print(\"Lists l1 and l3 are not equal\")"
   ]
  },
  {
   "cell_type": "code",
   "execution_count": null,
   "id": "af19f9d0",
   "metadata": {},
   "outputs": [],
   "source": []
  }
 ],
 "metadata": {
  "kernelspec": {
   "display_name": "Python 3",
   "language": "python",
   "name": "python3"
  },
  "language_info": {
   "codemirror_mode": {
    "name": "ipython",
    "version": 3
   },
   "file_extension": ".py",
   "mimetype": "text/x-python",
   "name": "python",
   "nbconvert_exporter": "python",
   "pygments_lexer": "ipython3",
   "version": "3.6.6"
  }
 },
 "nbformat": 4,
 "nbformat_minor": 5
}
