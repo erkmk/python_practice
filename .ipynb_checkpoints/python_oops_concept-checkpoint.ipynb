{
 "cells": [
  {
   "cell_type": "markdown",
   "metadata": {},
   "source": [
    "## Creational Patterns"
   ]
  },
  {
   "cell_type": "code",
   "execution_count": 6,
   "metadata": {},
   "outputs": [
    {
     "name": "stdout",
     "output_type": "stream",
     "text": [
      "Woof!\n",
      "Meow!\n"
     ]
    }
   ],
   "source": [
    "class Dog:\n",
    "    def __init__(self, name):\n",
    "        self.name = name\n",
    "    def speak(self):\n",
    "        return \"Woof!\"\n",
    "    \n",
    "class Cat:\n",
    "    def __init__(self, name):\n",
    "        self.name = name\n",
    "    \n",
    "    def speak(self):\n",
    "        return \"Meow!\"\n",
    "\n",
    "def get_pet(pet=\"dog\"):\n",
    "    \n",
    "    pets = dict(dog=Dog(\"hope\"), cat=Cat(\"Peace\"))\n",
    "    return pets[pet]\n",
    "\n",
    "d = get_pet(\"dog\")\n",
    "print(d.speak())\n",
    "\n",
    "c = get_pet(\"cat\")\n",
    "print(c.speak())"
   ]
  },
  {
   "cell_type": "code",
   "execution_count": 9,
   "metadata": {},
   "outputs": [
    {
     "name": "stdout",
     "output_type": "stream",
     "text": [
      "Our pet is 'Dog'!\n",
      "Our pet says hello by 'Woof!'!\n",
      "Its Food is 'Dog Food!'!\n"
     ]
    }
   ],
   "source": [
    "class Dog:\n",
    "    def speak(self):\n",
    "        return \"Woof!\"\n",
    "    \n",
    "    def __str__(self):\n",
    "        return \"Dog\"\n",
    "        \n",
    "class DogFactory:\n",
    "    def get_pet(self):\n",
    "        return Dog()\n",
    "        \n",
    "    def get_food(self):\n",
    "        return \"Dog Food!\"\n",
    "        \n",
    "        \n",
    "class PetStore:\n",
    "    \n",
    "    def __init__(self, pet_factory=None):\n",
    "        self._pet_factory = pet_factory\n",
    "        \n",
    "        \n",
    "    def show_pet(self):\n",
    "        pet = self._pet_factory.get_pet()\n",
    "        pet_food = self._pet_factory.get_food()\n",
    "        \n",
    "        \n",
    "        print(\"Our pet is '{}'!\".format(pet))\n",
    "        print(\"Our pet says hello by '{}'!\".format(pet.speak()))\n",
    "        print(\"Its Food is '{}'!\".format(pet_food))\n",
    "        \n",
    "        \n",
    "# Create a Concerete Factory \n",
    "factory = DogFactory()\n",
    "\n",
    "#Create a pet store housing our Abstract Factory\n",
    "shop = PetStore(factory)\n",
    "\n",
    "#Invoke the utility method to show the details of our pet\n",
    "shop.show_pet()\n",
    "        \n",
    "     \n",
    "    \n",
    "    "
   ]
  },
  {
   "cell_type": "markdown",
   "metadata": {},
   "source": [
    "## Singleton"
   ]
  },
  {
   "cell_type": "code",
   "execution_count": 27,
   "metadata": {},
   "outputs": [
    {
     "name": "stdout",
     "output_type": "stream",
     "text": [
      "{'HTTP': 'Hyper Text Transfer Protocol'}\n"
     ]
    }
   ],
   "source": [
    "class Borg:\n",
    "\t_shared_state = {}\n",
    "\n",
    "\tdef __init__(self):\n",
    "\t\t#self.__dict__ = self._shared_state\n",
    "\t\tself._shared_state = self._shared_state\n",
    "\n",
    "class Singleton(Borg):\n",
    "\tdef __init__(self, **kwargs):\n",
    "        #self._shared_state = _shared_state\n",
    "\t\tBorg.__init__(self)\n",
    "\t\tself._shared_state.update(kwargs)\n",
    "\n",
    "\tdef __str__(self):\n",
    "\t\treturn str(self._shared_state)\n",
    "\n",
    "\n",
    "x = Singleton(HTTP = \"Hyper Text Transfer Protocol\")\n",
    "print(x)\n",
    "\n"
   ]
  },
  {
   "cell_type": "code",
   "execution_count": 1,
   "metadata": {},
   "outputs": [
    {
     "name": "stdout",
     "output_type": "stream",
     "text": [
      "Employee\n",
      "['__add__', '__class__', '__contains__', '__delattr__', '__dir__', '__doc__', '__eq__', '__format__', '__ge__', '__getattribute__', '__getitem__', '__getnewargs__', '__gt__', '__hash__', '__init__', '__init_subclass__', '__iter__', '__le__', '__len__', '__lt__', '__mod__', '__mul__', '__ne__', '__new__', '__reduce__', '__reduce_ex__', '__repr__', '__rmod__', '__rmul__', '__setattr__', '__sizeof__', '__str__', '__subclasshook__', 'capitalize', 'casefold', 'center', 'count', 'encode', 'endswith', 'expandtabs', 'find', 'format', 'format_map', 'index', 'isalnum', 'isalpha', 'isascii', 'isdecimal', 'isdigit', 'isidentifier', 'islower', 'isnumeric', 'isprintable', 'isspace', 'istitle', 'isupper', 'join', 'ljust', 'lower', 'lstrip', 'maketrans', 'partition', 'replace', 'rfind', 'rindex', 'rjust', 'rpartition', 'rsplit', 'rstrip', 'split', 'splitlines', 'startswith', 'strip', 'swapcase', 'title', 'translate', 'upper', 'zfill']\n"
     ]
    }
   ],
   "source": [
    "import inspect\n",
    "class Employee:\n",
    "    def __init__(self,fname,lname):\n",
    "        self.fname=fname\n",
    "        self.lname=lname\n",
    "Shivansh=Employee(\"Shivansh\",\"Varshney\")\n",
    "def insp(emp):\n",
    "     inspect.isclass(emp)\n",
    "     while True:\n",
    "       print(dir(emp))\n",
    "       break\n",
    "emp=input()\n",
    "insp(emp)"
   ]
  },
  {
   "cell_type": "code",
   "execution_count": null,
   "metadata": {},
   "outputs": [],
   "source": []
  }
 ],
 "metadata": {
  "kernelspec": {
   "display_name": "Python 3",
   "language": "python",
   "name": "python3"
  },
  "language_info": {
   "codemirror_mode": {
    "name": "ipython",
    "version": 3
   },
   "file_extension": ".py",
   "mimetype": "text/x-python",
   "name": "python",
   "nbconvert_exporter": "python",
   "pygments_lexer": "ipython3",
   "version": "3.8.5"
  }
 },
 "nbformat": 4,
 "nbformat_minor": 4
}
