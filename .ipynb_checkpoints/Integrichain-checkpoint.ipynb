{
 "cells": [
  {
   "cell_type": "code",
   "execution_count": 1,
   "id": "362f2dc6",
   "metadata": {},
   "outputs": [
    {
     "name": "stdout",
     "output_type": "stream",
     "text": [
      "No of Theive3\n",
      "No of Gold20\n",
      "thiefIndex 0\n",
      "Index doesn't exist!\n"
     ]
    },
    {
     "ename": "IndexError",
     "evalue": "list index out of range",
     "output_type": "error",
     "traceback": [
      "\u001b[1;31m---------------------------------------------------------------------------\u001b[0m",
      "\u001b[1;31mIndexError\u001b[0m                                Traceback (most recent call last)",
      "\u001b[1;32m<ipython-input-1-5a1ea4283750>\u001b[0m in \u001b[0;36m<module>\u001b[1;34m\u001b[0m\n\u001b[0;32m     19\u001b[0m         \u001b[0mcoinsToGive\u001b[0m \u001b[1;33m=\u001b[0m \u001b[0mtotalCoins\u001b[0m\u001b[1;33m\u001b[0m\u001b[0m\n\u001b[0;32m     20\u001b[0m \u001b[1;33m\u001b[0m\u001b[0m\n\u001b[1;32m---> 21\u001b[1;33m     \u001b[0mdata\u001b[0m\u001b[1;33m[\u001b[0m\u001b[0mthiefIndex\u001b[0m\u001b[1;33m]\u001b[0m \u001b[1;33m+=\u001b[0m \u001b[0mcoinsToGive\u001b[0m\u001b[1;33m\u001b[0m\u001b[0m\n\u001b[0m\u001b[0;32m     22\u001b[0m     \u001b[0mtotalCoins\u001b[0m \u001b[1;33m-=\u001b[0m \u001b[0mcoinsToGive\u001b[0m\u001b[1;33m\u001b[0m\u001b[0m\n\u001b[0;32m     23\u001b[0m     \u001b[0mcoins\u001b[0m \u001b[1;33m+=\u001b[0m\u001b[1;36m1\u001b[0m\u001b[1;33m\u001b[0m\u001b[0m\n",
      "\u001b[1;31mIndexError\u001b[0m: list index out of range"
     ]
    }
   ],
   "source": [
    "numt = int(input(\"No of Theive\"))\n",
    "totalCoins = int(input(\"No of Gold\"))\n",
    "data = []\n",
    "coins = 0\n",
    "while totalCoins > 0:\n",
    "    thiefIndex = (coins % numt)\n",
    "    print(\"thiefIndex\", thiefIndex)\n",
    "    try:\n",
    "        data[thiefIndex]\n",
    "    except IndexError:\n",
    "        print(\"Index doesn't exist!\")\n",
    "#     gotdata = data[thiefIndex] if len(data) > 0 else data.append(0)\n",
    "#     data[thiefIndex] = 0\n",
    "#     if data[thiefIndex] is None:\n",
    "#         data[thiefIndex] = 0 #Every thief starts with 0 coins\n",
    "    \n",
    "    coinsToGive = coins + 1\n",
    "    if totalCoins < coinsToGive:\n",
    "        coinsToGive = totalCoins\n",
    "    \n",
    "    data[thiefIndex] += coinsToGive\n",
    "    totalCoins -= coinsToGive\n",
    "    coins +=1\n",
    "    print(data)\n",
    "    \n",
    "# print(data)"
   ]
  },
  {
   "cell_type": "code",
   "execution_count": 32,
   "id": "e3217c30",
   "metadata": {},
   "outputs": [
    {
     "data": {
      "text/plain": [
       "0"
      ]
     },
     "execution_count": 32,
     "metadata": {},
     "output_type": "execute_result"
    }
   ],
   "source": [
    "data1=[]\n",
    "# try:\n",
    "#     data1[0]\n",
    "# except:\n",
    "#     print(\"e\")\n",
    "#     data1.append(0)\n",
    "\n",
    "len(data1)"
   ]
  },
  {
   "cell_type": "code",
   "execution_count": 2,
   "id": "581bfabc",
   "metadata": {},
   "outputs": [],
   "source": [
    "def mth_fmt(year, val):\n",
    "        return str(year) + str(val).zfill(2)"
   ]
  },
  {
   "cell_type": "code",
   "execution_count": 5,
   "id": "cc427b95",
   "metadata": {},
   "outputs": [
    {
     "data": {
      "text/plain": [
       "'201811'"
      ]
     },
     "execution_count": 5,
     "metadata": {},
     "output_type": "execute_result"
    }
   ],
   "source": [
    "period = \"202003\"\n",
    "offset = -16\n",
    "max_val = 12\n",
    "year, val = int(period[:4]), int(period[4:])\n",
    "fmt = mth_fmt\n",
    "\n",
    "val = val - 1 + offset\n",
    "year = year + val // max_val\n",
    "val = val % max_val + 1\n",
    "fmt(year, val)"
   ]
  },
  {
   "cell_type": "code",
   "execution_count": 16,
   "id": "487ff44c",
   "metadata": {},
   "outputs": [
    {
     "data": {
      "text/plain": [
       "-16"
      ]
     },
     "execution_count": 16,
     "metadata": {},
     "output_type": "execute_result"
    }
   ],
   "source": [
    "price_type_offset = -12\n",
    "price_type_offset -= 4\n",
    "price_type_offset"
   ]
  },
  {
   "cell_type": "code",
   "execution_count": 3,
   "id": "d724992a",
   "metadata": {},
   "outputs": [
    {
     "data": {
      "text/plain": [
       "datetime.date(2022, 9, 14)"
      ]
     },
     "execution_count": 3,
     "metadata": {},
     "output_type": "execute_result"
    }
   ],
   "source": [
    "from datetime import datetime\n",
    "datetime.now().date()"
   ]
  },
  {
   "cell_type": "code",
   "execution_count": 32,
   "id": "ee411c59",
   "metadata": {},
   "outputs": [
    {
     "name": "stdout",
     "output_type": "stream",
     "text": [
      "8\n"
     ]
    },
    {
     "data": {
      "text/plain": [
       "True"
      ]
     },
     "execution_count": 32,
     "metadata": {},
     "output_type": "execute_result"
    }
   ],
   "source": [
    "data = 15123456\n",
    "print(len(str(data)))\n",
    "len(str(data)) <= 10"
   ]
  },
  {
   "cell_type": "code",
   "execution_count": 24,
   "id": "2a045e95",
   "metadata": {},
   "outputs": [
    {
     "ename": "SyntaxError",
     "evalue": "'break' outside loop (<ipython-input-24-017020b31882>, line 6)",
     "output_type": "error",
     "traceback": [
      "\u001b[1;36m  File \u001b[1;32m\"<ipython-input-24-017020b31882>\"\u001b[1;36m, line \u001b[1;32m6\u001b[0m\n\u001b[1;33m    #         raise ValidationError(\"'{}' should be less than or equal to 10 digit\".format(data))\u001b[0m\n\u001b[1;37m                   ^\u001b[0m\n\u001b[1;31mSyntaxError\u001b[0m\u001b[1;31m:\u001b[0m 'break' outside loop\n"
     ]
    }
   ],
   "source": [
    "# def validate_package_size_digit(data):\n",
    "#     try:\n",
    "#         break\n",
    "#     except ValueError:\n",
    "#         print(\"except block...\")\n",
    "#         raise ValidationError(\"'{}' should be less than or equal to 10 digit\".format(data))"
   ]
  },
  {
   "cell_type": "code",
   "execution_count": 33,
   "id": "08e5e15d",
   "metadata": {},
   "outputs": [],
   "source": [
    "def validate_package_size_digit(data):\n",
    "    if not len(str(data)) <= 10:\n",
    "         print(\"except block...\")\n",
    "#          raise ValidationError(\"'{}' should be less than or equal to 10 digit\".format(data))"
   ]
  },
  {
   "cell_type": "code",
   "execution_count": 34,
   "id": "821996e1",
   "metadata": {},
   "outputs": [],
   "source": [
    "vali=validate_package_size_digit(data)\n",
    "vali"
   ]
  },
  {
   "cell_type": "code",
   "execution_count": 37,
   "id": "1afe4521",
   "metadata": {},
   "outputs": [],
   "source": [
    "product_gp_fields = [\n",
    "    \"flag_asp\",\n",
    "    \"flag_nfamp\",\n",
    "    \"flag_amp\",\n",
    "    \"flag_phs\",\n",
    "    \"sin\"\n",
    "]"
   ]
  },
  {
   "cell_type": "code",
   "execution_count": 46,
   "id": "d83e92aa",
   "metadata": {},
   "outputs": [
    {
     "name": "stdout",
     "output_type": "stream",
     "text": [
      "yeesss\n"
     ]
    }
   ],
   "source": [
    "data123={\n",
    "    \"ndc11\": \"72366010103\",\n",
    "    \"product_name\": \"Amzeeq Foam 4.0% 30g Can\",\n",
    "    \"ndc9\": \"723560101\",\n",
    "    \"jcode\": \"\",\n",
    "    \"internal\": \"TRUE\",\n",
    "    \"product_summary_name\": \"Amzeeq\",\n",
    "    \"product_brand\": \"Amzeeq\",\n",
    "    \"market_date\": \"06/01/2021\",\n",
    "    \"first_sale_date\": \"12/07/1905\",\n",
    "    \"fda_approval_date\": \"10/18/2019\",\n",
    "    \"fda_application_number\": \"NDA212379\",\n",
    "    \"purchase_date\": \"\",\n",
    "    \"effective_date\": \"01/01/2020\",\n",
    "    \"termination_date\": \"08/26/2023\",\n",
    "    \"expiration_date\": \"08/26/2024\",\n",
    "    \"elig_start_date\": \"01/01/1970\",\n",
    "    \"elig_end_date\": \"01/01/2099\",\n",
    "    \"upc\": \"\",\n",
    "    \"sale_uom\": \"EA\",\n",
    "    \"medicaid_uom\": \"GM\",\n",
    "    \"unit_uom\": \"UN\",\n",
    "    \"medicaid_conversion_factor\": \"30\",\n",
    "    \"unit_conversion_factor\": \"30\",\n",
    "    \"gl_account_code\": \"\",\n",
    "    \"flag_active\": \"TRUE\",\n",
    "    \"flag_medi\": \"TRUE\",\n",
    "    \"auto_add_product\": \"TRUE\",\n",
    "    \"flag_asp\": \"FALSE\",\n",
    "    \"flag_nfamp\": \"TRUE\",\n",
    "    \"flag_amp\": \"TRUE\",\n",
    "    \"flag_bp\": \"TRUE\",\n",
    "    \"flag_iff\": \"TRUE\",\n",
    "    \"reportable_asp\": \"FALSE\",\n",
    "    \"reportable_nfamp\": \"TRUE\",\n",
    "    \"reportable_amp\": \"TRUE\",\n",
    "    \"reportable_bp\": \"TRUE\",\n",
    "    \"reportable_iff\": \"TRUE\",\n",
    "    \"drug_type\": \"RX\",\n",
    "    \"dosage_form\": \"TOPICAL\",\n",
    "    \"amp_type\": \"RCP\",\n",
    "    \"threshold_5i\": \"N\",\n",
    "    \"baseline_qtr\": \"2020q1\",\n",
    "    \"baseline_amp\": \"16.166667\",\n",
    "    \"baseline_cpiu\": \"258.115\",\n",
    "    \"flag_line_extension\": \"FALSE\",\n",
    "    \"manufacturer_name\": \"\",\n",
    "    \"generic_name\": \"\",\n",
    "    \"strength\": \"\",\n",
    "    \"reactivation_date\": \"\",\n",
    "    \"divestiture_date\": \"\",\n",
    "    \"opais_package_size_amount\": \"\",\n",
    "    \"opais_case_package_size_amount\": \"\",\n",
    "    \"upps\": \"\",\n",
    "    \"orphan_drug_designation_date\": \"\",\n",
    "    \"client_id\": 7\n",
    "}\n",
    "if data123.get(\"sin\") is not False:\n",
    "    print(\"yeesss\")"
   ]
  },
  {
   "cell_type": "code",
   "execution_count": 39,
   "id": "99a6fe9e",
   "metadata": {},
   "outputs": [
    {
     "name": "stdout",
     "output_type": "stream",
     "text": [
      "flag_aspYess\n",
      "flag_nfampYess\n",
      "flag_ampYess\n",
      "flag_phs HAHAHAHAHAH\n",
      "sin HAHAHAHAHAH\n"
     ]
    }
   ],
   "source": [
    "for field in product_gp_fields:\n",
    "    if not data123.get(field) and data123.get(field) is not False:\n",
    "        print(field + \" \" +\"HAHAHAHAHAH\")\n",
    "    else:\n",
    "        print(field + 'Yess')"
   ]
  },
  {
   "cell_type": "code",
   "execution_count": 50,
   "id": "48608802",
   "metadata": {},
   "outputs": [],
   "source": [
    "if False is not False:\n",
    "    print(\"check\")"
   ]
  },
  {
   "cell_type": "code",
   "execution_count": 2,
   "id": "d35b574f",
   "metadata": {},
   "outputs": [
    {
     "data": {
      "text/plain": [
       "{'opais_case_package_size_amount': ['Not a valid integer.']}"
      ]
     },
     "execution_count": 2,
     "metadata": {},
     "output_type": "execute_result"
    }
   ],
   "source": [
    "errors={'opais_case_package_size_amount': ['Not a valid integer.'], 'opais_package_size_amount': ['Not a valid integer.']}\n",
    "if errors.get(\"opais_package_size_amount\"):\n",
    "    del errors[\"opais_package_size_amount\"]\n",
    "elif errors.get(\"opais_case_package_size_amount\"):\n",
    "    del errors[\"opais_case_package_size_amount\"]\n",
    "errors"
   ]
  },
  {
   "cell_type": "code",
   "execution_count": 12,
   "id": "8213680a",
   "metadata": {},
   "outputs": [
    {
     "name": "stdout",
     "output_type": "stream",
     "text": [
      "data and 123\n",
      "logic and mma\n",
      "data and 123\n",
      "logic and mma\n",
      "data and 123\n",
      "logic and mma\n"
     ]
    }
   ],
   "source": [
    "dict1 = [{\"data\": 123, \"logic\":\"mma\"}, {\"data\": 123, \"logic\":\"mma\"}, {\"data\": 123, \"logic\":\"mma\"}]\n",
    "# dict1.values()\n",
    "\n",
    "for dic in dict1:\n",
    "#     print(dic)\n",
    "    for k,v in dic.items():\n",
    "        "
   ]
  },
  {
   "cell_type": "code",
   "execution_count": 17,
   "id": "75334ab5",
   "metadata": {},
   "outputs": [
    {
     "name": "stdout",
     "output_type": "stream",
     "text": [
      "[{'dollar_type': {'v1': 'NET_AMOUNT'}}, {'use_cppd': {'v1': False}}, {'labeler_variances': {'v1': []}}, {'summary_variance': {'v1': False}}, {'reportable_name': {'v1': 'Rebates'}}, {'ordering': {'v1': 8}}, {'allow_overlap': {'v1': False}}, {'derived': {'v1': False}}, {'variance_threshold_unit': {'v1': '0.0000'}}, {'source': {'v1': 'REB'}}, {'variance_threshold_dollar': {'v1': '0.0000'}}, {'logic_master_id': {'v1': None}}, {'enabled': {'v1': True}}, {'value_period': {'v1': 'DEFAULT'}}, {'name': {'v1': 'rebates'}}, {'summary': {'v1': False}}, {'price_type_id': {'v1': 22}}, {'group_key': {'v1': None}}, {'value': {'v1': '1 = 1'}}, {'unbucketed': {'v1': False}}, {'id': {'v1': 606}}, {'reportable': {'v1': True}}, {'calc_group': {'v1': 'STANDARD'}}, {'errors': {'v1': []}}, {'_type': {'v1': 'BUCKET'}}, {'type': {'v1': 'Bucket (REB)'}}]\n"
     ]
    }
   ],
   "source": [
    "data = [{\n",
    "        \"dollar_type\": \"NET_AMOUNT\",\n",
    "        \"use_cppd\": False,\n",
    "        \"labeler_variances\": [],\n",
    "        \"summary_variance\": False,\n",
    "        \"reportable_name\": \"Rebates\",\n",
    "        \"ordering\": 8,\n",
    "        \"allow_overlap\": False,\n",
    "        \"derived\": False,\n",
    "        \"variance_threshold_unit\": \"0.0000\",\n",
    "        \"source\": \"REB\",\n",
    "        \"variance_threshold_dollar\": \"0.0000\",\n",
    "        \"logic_master_id\": None,\n",
    "        \"enabled\": True,\n",
    "        \"value_period\": \"DEFAULT\",\n",
    "        \"name\": \"rebates\",\n",
    "        \"summary\": False,\n",
    "        \"price_type_id\": 22,\n",
    "        \"group_key\": None,\n",
    "        \"value\": \"1 = 1\",\n",
    "        \"unbucketed\": False,\n",
    "        \"id\": 606,\n",
    "        \"reportable\": True,\n",
    "        \"calc_group\": \"STANDARD\",\n",
    "        \"errors\": [],\n",
    "        \"_type\": \"BUCKET\",\n",
    "        \"type\": \"Bucket (REB)\"\n",
    "    }]\n",
    "bucket1=[]\n",
    "for i in data:\n",
    "    for k,v in i.items():\n",
    "        bucket1.append({k:{\"v1\":v}})\n",
    "print(lst)\n",
    "data1 = [{\n",
    "        \"dollar_type\": \"NET_AMOUNT\",\n",
    "        \"use_cppd\": False,\n",
    "        \"labeler_variances\": [],\n",
    "        \"summary_variance\": False,\n",
    "        \"reportable_name\": \"Rebates\",\n",
    "        \"ordering\": 8,\n",
    "        \"allow_overlap\": False,\n",
    "        \"derived\": False,\n",
    "        \"variance_threshold_unit\": \"0.0000\",\n",
    "        \"source\": \"REB\",\n",
    "        \"variance_threshold_dollar\": \"0.0000\",\n",
    "        \"logic_master_id\": None,\n",
    "        \"enabled\": True,\n",
    "        \"value_period\": \"DEFAULT\",\n",
    "        \"name\": \"rebates\",\n",
    "        \"summary\": False,\n",
    "        \"price_type_id\": 22,\n",
    "        \"group_key\": None,\n",
    "        \"value\": \"1 = 1\",\n",
    "        \"unbucketed\": False,\n",
    "        \"id\": 606,\n",
    "        \"reportable\": True,\n",
    "        \"calc_group\": \"STANDARD\",\n",
    "        \"errors\": [],\n",
    "        \"_type\": \"\",\n",
    "        \"type\": \"Bucket (REB)\"\n",
    "    }]"
   ]
  },
  {
   "cell_type": "code",
   "execution_count": 18,
   "id": "71dde74c",
   "metadata": {},
   "outputs": [
    {
     "name": "stdout",
     "output_type": "stream",
     "text": [
      "{'dollar_type': 'NET_AMOUNT', 'use_cppd': False, 'labeler_variances': [], 'summary_variance': False, 'reportable_name': 'Rebates', 'ordering': 8, 'allow_overlap': False, 'derived': False, 'variance_threshold_unit': '0.0000', 'source': 'REB', 'variance_threshold_dollar': '0.0000', 'logic_master_id': None, 'enabled': True, 'value_period': 'DEFAULT', 'name': 'rebates', 'summary': False, 'price_type_id': 22, 'group_key': None, 'value': '1 = 1', 'unbucketed': False, 'id': 606, 'reportable': True, 'calc_group': 'STANDARD', 'errors': [], '_type': 'BUCKET', 'type': 'Bucket (REB)'}\n"
     ]
    }
   ],
   "source": [
    "for i in data:\n",
    "        if i not in data1:\n",
    "            print(i)"
   ]
  },
  {
   "cell_type": "code",
   "execution_count": 84,
   "id": "527bd646",
   "metadata": {},
   "outputs": [],
   "source": [
    "data21=[{\"rebates\": {\n",
    "            \"errors\": [],\n",
    "            \"enabled\": True,\n",
    "            \"name\": \"rebates\",\n",
    "            \"reportable\": True,\n",
    "            \"ordering\": 8,\n",
    "            \"summary\": True,\n",
    "            \"id\": 606,\n",
    "            \"group_key\": None,\n",
    "            \"variance_threshold_unit\": \"0.0000\",\n",
    "            \"dollar_type\": \"NET_AMOUNT\",\n",
    "            \"unbucketed\": False,\n",
    "            \"calc_group\": \"STANDARD\",\n",
    "            \"derived\": False,\n",
    "            \"labeler_variances\": [],\n",
    "            \"source\": \"REB\",\n",
    "            \"value\": \"1 = 1\",\n",
    "            \"summary_variance\": False,\n",
    "            \"value_period\": \"DEFAULT\",\n",
    "            \"variance_threshold_dollar\": \"0.0000\",\n",
    "            \"price_type_id\": 22,\n",
    "            \"reportable_name\": \"Rebates\",\n",
    "            \"use_cppd\": False,\n",
    "            \"allow_overlap\": False,\n",
    "            \"logic_master_id\": None,\n",
    "            \"_type\": \"BUCKET\",\n",
    "            \"type\": \"Bucket (REB)\"\n",
    "        },\n",
    "        \"cb_chargebacks\": {\n",
    "            \"errors\": [],\n",
    "            \"enabled\": True,\n",
    "            \"name\": \"cb_chargebacks\",\n",
    "            \"reportable\": False,\n",
    "            \"ordering\": 1,\n",
    "            \"summary\": False,\n",
    "            \"id\": 613,\n",
    "            \"group_key\": None,\n",
    "            \"variance_threshold_unit\": \"0.0000\",\n",
    "            \"dollar_type\": \"NET_AMOUNT\",\n",
    "            \"unbucketed\": False,\n",
    "            \"calc_group\": \"STANDARD\",\n",
    "            \"derived\": False,\n",
    "            \"labeler_variances\": [],\n",
    "            \"source\": \"DS\",\n",
    "            \"value\": \"TransType.Class = 'cb'\",\n",
    "            \"summary_variance\": False,\n",
    "            \"value_period\": \"DEFAULT\",\n",
    "            \"variance_threshold_dollar\": \"0.0000\",\n",
    "            \"price_type_id\": 22,\n",
    "            \"reportable_name\": \"CB Chargebacks\",\n",
    "            \"use_cppd\": False,\n",
    "            \"allow_overlap\": False,\n",
    "            \"logic_master_id\": None,\n",
    "            \"_type\": \"BUCKET\",\n",
    "            \"type\": \"Bucket (DS)\"\n",
    "        }}]\n",
    "\n",
    "data31=[{\"rebates\": {\n",
    "            \"errors\": [],\n",
    "            \"enabled\": True,\n",
    "            \"name\": \"rebates\",\n",
    "            \"reportable\": True,\n",
    "            \"ordering\": 8,\n",
    "            \"summary\": True,\n",
    "            \"id\": 606,\n",
    "            \"group_key\": None,\n",
    "            \"variance_threshold_unit\": \"0.0000\",\n",
    "            \"dollar_type\": \"NET_AMOUNT\",\n",
    "            \"unbucketed\": False,\n",
    "            \"calc_group\": \"STANDARD\",\n",
    "            \"derived\": False,\n",
    "            \"labeler_variances\": [],\n",
    "            \"source\": \"REB\",\n",
    "            \"value\": \"1 = 1\",\n",
    "            \"summary_variance\": False,\n",
    "            \"value_period\": \"DEFAULT\",\n",
    "            \"variance_threshold_dollar\": \"0.0000\",\n",
    "            \"price_type_id\": 22,\n",
    "            \"reportable_name\": \"Rebates\",\n",
    "            \"use_cppd\": False,\n",
    "            \"allow_overlap\": False,\n",
    "            \"logic_master_id\": None,\n",
    "            \"_type\": \"BUCKET\",\n",
    "            \"type\": \"Bucket (REB)\"\n",
    "        },\n",
    "        \"cb_chargebacks\": {\n",
    "            \"errors\": [],\n",
    "            \"enabled\": True,\n",
    "            \"name\": \"cb_chargebacks\",\n",
    "            \"reportable\": False,\n",
    "            \"ordering\": 1,\n",
    "            \"summary\": False,\n",
    "            \"id\": 613,\n",
    "            \"group_key\": None,\n",
    "            \"variance_threshold_unit\": \"0.0000\",\n",
    "            \"dollar_type\": \"NET_AMOUNT\",\n",
    "            \"unbucketed\": False,\n",
    "            \"calc_group\": \"STANDARD\",\n",
    "            \"derived\": False,\n",
    "            \"labeler_variances\": [],\n",
    "            \"source\": \"DS\",\n",
    "            \"value\": \"TransType.Class = 'cb'\",\n",
    "            \"summary_variance\": False,\n",
    "            \"value_period\": \"DEFAULT\",\n",
    "            \"variance_threshold_dollar\": \"0.0000\",\n",
    "            \"price_type_id\": 22,\n",
    "            \"reportable_name\": \"CB Chargebacks\",\n",
    "            \"use_cppd\": False,\n",
    "            \"allow_overlap\": False,\n",
    "            \"logic_master_id\": None,\n",
    "            \"_type\": \"BUCKET\",\n",
    "            \"type\": \"Bucket (DS)\"\n",
    "        }}]"
   ]
  },
  {
   "cell_type": "code",
   "execution_count": 78,
   "id": "25342704",
   "metadata": {},
   "outputs": [
    {
     "data": {
      "text/plain": [
       "{'errors': [],\n",
       " 'enabled': True,\n",
       " 'name': 'rebates',\n",
       " 'reportable': True,\n",
       " 'ordering': 8,\n",
       " 'summary': True,\n",
       " 'id': 606,\n",
       " 'group_key': None,\n",
       " 'variance_threshold_unit': '0.0000',\n",
       " 'dollar_type': 'NET_AMOUNT',\n",
       " 'unbucketed': False,\n",
       " 'calc_group': 'STANDARD',\n",
       " 'derived': False,\n",
       " 'labeler_variances': [],\n",
       " 'source': 'REB',\n",
       " 'value': '1 = 1',\n",
       " 'summary_variance': False,\n",
       " 'value_period': 'DEFAULT',\n",
       " 'variance_threshold_dollar': '0.0000',\n",
       " 'price_type_id': 22,\n",
       " 'reportable_name': 'Rebates',\n",
       " 'use_cppd': False,\n",
       " 'allow_overlap': False,\n",
       " 'logic_master_id': None,\n",
       " '_type': 'BUCKET',\n",
       " 'type': 'Bucket (REB)'}"
      ]
     },
     "execution_count": 78,
     "metadata": {},
     "output_type": "execute_result"
    }
   ],
   "source": [
    "# data2[i][for i in data2 if data2[i]['rebates'] == data3[i]['rebates']\n",
    "data21[0].get('rebates')"
   ]
  },
  {
   "cell_type": "code",
   "execution_count": 87,
   "id": "09c2d881",
   "metadata": {},
   "outputs": [
    {
     "name": "stdout",
     "output_type": "stream",
     "text": [
      "{'errors': [], 'enabled': True, 'name': 'rebates', 'reportable': True, 'ordering': 8, 'summary': True, 'id': 606, 'group_key': None, 'variance_threshold_unit': '0.0000', 'dollar_type': 'NET_AMOUNT', 'unbucketed': False, 'calc_group': 'STANDARD', 'derived': False, 'labeler_variances': [], 'source': 'REB', 'value': '1 = 1', 'summary_variance': False, 'value_period': 'DEFAULT', 'variance_threshold_dollar': '0.0000', 'price_type_id': 22, 'reportable_name': 'Rebates', 'use_cppd': False, 'allow_overlap': False, 'logic_master_id': None, '_type': 'BUCKET', 'type': 'Bucket REB)', 'match': False}\n",
      "{'errors': [], 'enabled': True, 'name': 'cb_chargebacks', 'reportable': False, 'ordering': 1, 'summary': False, 'id': 613, 'group_key': None, 'variance_threshold_unit': '0.0000', 'dollar_type': 'NET_AMOUNT', 'unbucketed': False, 'calc_group': 'STANDARD', 'derived': False, 'labeler_variances': [], 'source': 'DS', 'value': \"TransType.Class = 'cb'\", 'summary_variance': False, 'value_period': 'DEFAULT', 'variance_threshold_dollar': '0.0000', 'price_type_id': 22, 'reportable_name': 'CB Chargebacks', 'use_cppd': False, 'allow_overlap': False, 'logic_master_id': None, '_type': 'BUCKET', 'type': 'Bucket (DS)', 'match': False}\n"
     ]
    }
   ],
   "source": [
    "buck_keys = ['rebates', 'cb_chargebacks']\n",
    "for bk in buck_keys:\n",
    "    if data21[0].get(bk) == data31[0].get(bk):\n",
    "        data21[0][bk]['match']=True\n",
    "    else:\n",
    "        data21[0][bk]['match']=False\n",
    "        print(data21[0][bk])\n"
   ]
  },
  {
   "cell_type": "code",
   "execution_count": null,
   "id": "f2f6178e",
   "metadata": {},
   "outputs": [],
   "source": []
  }
 ],
 "metadata": {
  "kernelspec": {
   "display_name": "Python 3",
   "language": "python",
   "name": "python3"
  },
  "language_info": {
   "codemirror_mode": {
    "name": "ipython",
    "version": 3
   },
   "file_extension": ".py",
   "mimetype": "text/x-python",
   "name": "python",
   "nbconvert_exporter": "python",
   "pygments_lexer": "ipython3",
   "version": "3.6.6"
  }
 },
 "nbformat": 4,
 "nbformat_minor": 5
}
