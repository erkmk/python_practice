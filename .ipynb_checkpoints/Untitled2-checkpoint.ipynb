{
 "cells": [
  {
   "cell_type": "code",
   "execution_count": 120,
   "id": "3e860e66",
   "metadata": {},
   "outputs": [],
   "source": [
    "import pandas as pd\n",
    "df1 = pd.read_excel('r1.xlsx', engine='openpyxl') #error_bad_lines=False"
   ]
  },
  {
   "cell_type": "code",
   "execution_count": 121,
   "id": "150905af",
   "metadata": {},
   "outputs": [],
   "source": [
    "df2 = pd.read_excel('r2.xlsx', engine='openpyxl')"
   ]
  },
  {
   "cell_type": "code",
   "execution_count": 122,
   "id": "69587ead",
   "metadata": {},
   "outputs": [
    {
     "data": {
      "text/html": [
       "<div>\n",
       "<style scoped>\n",
       "    .dataframe tbody tr th:only-of-type {\n",
       "        vertical-align: middle;\n",
       "    }\n",
       "\n",
       "    .dataframe tbody tr th {\n",
       "        vertical-align: top;\n",
       "    }\n",
       "\n",
       "    .dataframe thead th {\n",
       "        text-align: right;\n",
       "    }\n",
       "</style>\n",
       "<table border=\"1\" class=\"dataframe\">\n",
       "  <thead>\n",
       "    <tr style=\"text-align: right;\">\n",
       "      <th></th>\n",
       "      <th>Allotted Quota</th>\n",
       "      <th>Allotted Institute</th>\n",
       "      <th>Course</th>\n",
       "      <th>Alloted Category</th>\n",
       "      <th>Cutoff Rank</th>\n",
       "    </tr>\n",
       "  </thead>\n",
       "  <tbody>\n",
       "    <tr>\n",
       "      <th>0</th>\n",
       "      <td>All India</td>\n",
       "      <td>Acharya Harihar Post Graduate Institute of Can...</td>\n",
       "      <td>M.D. (ANAESTHESIOLOGY)</td>\n",
       "      <td>ST</td>\n",
       "      <td>74458</td>\n",
       "    </tr>\n",
       "    <tr>\n",
       "      <th>1</th>\n",
       "      <td>All India</td>\n",
       "      <td>ACSR GOVERNMENT MEDICAL COLLEGE,NELLORE,Opp AC...</td>\n",
       "      <td>M.D. (PAEDIATRICS)</td>\n",
       "      <td>OBC</td>\n",
       "      <td>6377</td>\n",
       "    </tr>\n",
       "    <tr>\n",
       "      <th>2</th>\n",
       "      <td>All India</td>\n",
       "      <td>ACSR GOVERNMENT MEDICAL COLLEGE,NELLORE,Opp AC...</td>\n",
       "      <td>M.D. (Tuberculosis and Respiratory diseases)/P...</td>\n",
       "      <td>OBC</td>\n",
       "      <td>9808</td>\n",
       "    </tr>\n",
       "    <tr>\n",
       "      <th>3</th>\n",
       "      <td>All India</td>\n",
       "      <td>ACSR GOVERNMENT MEDICAL COLLEGE,NELLORE,Opp AC...</td>\n",
       "      <td>M.S. (OPHTHALMOLOGY)</td>\n",
       "      <td>Open</td>\n",
       "      <td>17498</td>\n",
       "    </tr>\n",
       "    <tr>\n",
       "      <th>4</th>\n",
       "      <td>All India</td>\n",
       "      <td>ACSR GOVERNMENT MEDICAL COLLEGE,NELLORE,Opp AC...</td>\n",
       "      <td>M.D. (ANAESTHESIOLOGY)</td>\n",
       "      <td>Open</td>\n",
       "      <td>18969</td>\n",
       "    </tr>\n",
       "    <tr>\n",
       "      <th>...</th>\n",
       "      <td>...</td>\n",
       "      <td>...</td>\n",
       "      <td>...</td>\n",
       "      <td>...</td>\n",
       "      <td>...</td>\n",
       "    </tr>\n",
       "    <tr>\n",
       "      <th>3892</th>\n",
       "      <td>All India</td>\n",
       "      <td>VSS INSTITUTE OF MEDICAL SCIENCES AND RESEARCH...</td>\n",
       "      <td>M.D. (PHYSIOLOGY)</td>\n",
       "      <td>Open</td>\n",
       "      <td>121533</td>\n",
       "    </tr>\n",
       "    <tr>\n",
       "      <th>3893</th>\n",
       "      <td>All India</td>\n",
       "      <td>VSS INSTITUTE OF MEDICAL SCIENCES AND RESEARCH...</td>\n",
       "      <td>M.D. (BIOCHEMISTRY)</td>\n",
       "      <td>OBC</td>\n",
       "      <td>135597</td>\n",
       "    </tr>\n",
       "    <tr>\n",
       "      <th>3894</th>\n",
       "      <td>All India</td>\n",
       "      <td>VSS INSTITUTE OF MEDICAL SCIENCES AND RESEARCH...</td>\n",
       "      <td>M.D. (PHARMACOLOGY)</td>\n",
       "      <td>ST</td>\n",
       "      <td>141458</td>\n",
       "    </tr>\n",
       "    <tr>\n",
       "      <th>3895</th>\n",
       "      <td>All India</td>\n",
       "      <td>VSS INSTITUTE OF MEDICAL SCIENCES AND RESEARCH...</td>\n",
       "      <td>MD/MS (Anatomy)</td>\n",
       "      <td>OBC</td>\n",
       "      <td>143828</td>\n",
       "    </tr>\n",
       "    <tr>\n",
       "      <th>3896</th>\n",
       "      <td>All India</td>\n",
       "      <td>VSS INSTITUTE OF MEDICAL SCIENCES AND RESEARCH...</td>\n",
       "      <td>MD/MS (Anatomy)</td>\n",
       "      <td>SC</td>\n",
       "      <td>153593</td>\n",
       "    </tr>\n",
       "  </tbody>\n",
       "</table>\n",
       "<p>3897 rows × 5 columns</p>\n",
       "</div>"
      ],
      "text/plain": [
       "     Allotted Quota                                 Allotted Institute  \\\n",
       "0         All India  Acharya Harihar Post Graduate Institute of Can...   \n",
       "1         All India  ACSR GOVERNMENT MEDICAL COLLEGE,NELLORE,Opp AC...   \n",
       "2         All India  ACSR GOVERNMENT MEDICAL COLLEGE,NELLORE,Opp AC...   \n",
       "3         All India  ACSR GOVERNMENT MEDICAL COLLEGE,NELLORE,Opp AC...   \n",
       "4         All India  ACSR GOVERNMENT MEDICAL COLLEGE,NELLORE,Opp AC...   \n",
       "...             ...                                                ...   \n",
       "3892      All India  VSS INSTITUTE OF MEDICAL SCIENCES AND RESEARCH...   \n",
       "3893      All India  VSS INSTITUTE OF MEDICAL SCIENCES AND RESEARCH...   \n",
       "3894      All India  VSS INSTITUTE OF MEDICAL SCIENCES AND RESEARCH...   \n",
       "3895      All India  VSS INSTITUTE OF MEDICAL SCIENCES AND RESEARCH...   \n",
       "3896      All India  VSS INSTITUTE OF MEDICAL SCIENCES AND RESEARCH...   \n",
       "\n",
       "                                                 Course Alloted Category  \\\n",
       "0                                M.D. (ANAESTHESIOLOGY)               ST   \n",
       "1                                    M.D. (PAEDIATRICS)              OBC   \n",
       "2     M.D. (Tuberculosis and Respiratory diseases)/P...              OBC   \n",
       "3                                  M.S. (OPHTHALMOLOGY)             Open   \n",
       "4                                M.D. (ANAESTHESIOLOGY)             Open   \n",
       "...                                                 ...              ...   \n",
       "3892                                  M.D. (PHYSIOLOGY)             Open   \n",
       "3893                                M.D. (BIOCHEMISTRY)              OBC   \n",
       "3894                                M.D. (PHARMACOLOGY)               ST   \n",
       "3895                                    MD/MS (Anatomy)              OBC   \n",
       "3896                                    MD/MS (Anatomy)               SC   \n",
       "\n",
       "      Cutoff Rank  \n",
       "0           74458  \n",
       "1            6377  \n",
       "2            9808  \n",
       "3           17498  \n",
       "4           18969  \n",
       "...           ...  \n",
       "3892       121533  \n",
       "3893       135597  \n",
       "3894       141458  \n",
       "3895       143828  \n",
       "3896       153593  \n",
       "\n",
       "[3897 rows x 5 columns]"
      ]
     },
     "execution_count": 122,
     "metadata": {},
     "output_type": "execute_result"
    }
   ],
   "source": [
    "df3 = pd.read_excel('mopup.xlsx', engine='openpyxl')\n",
    "df3"
   ]
  },
  {
   "cell_type": "code",
   "execution_count": 123,
   "id": "7a4c095e",
   "metadata": {},
   "outputs": [],
   "source": [
    "df4 = pd.read_excel('stray.xlsx', engine='openpyxl')"
   ]
  },
  {
   "cell_type": "code",
   "execution_count": 124,
   "id": "9a68b053",
   "metadata": {},
   "outputs": [],
   "source": [
    "df5 = pd.read_excel('sp_stray.xlsx', engine='openpyxl')"
   ]
  },
  {
   "cell_type": "code",
   "execution_count": 125,
   "id": "6407a902",
   "metadata": {},
   "outputs": [],
   "source": [
    "# df1 = df1.rename(columns={'Cutoff Rank': 'R1'})\n",
    "# df1['R2']='-'\n",
    "# df1['Mop Up']='-'\n",
    "# df1['Stray Vacancy']='-'\n",
    "# df1['SP Stray Vacancy']='-'\n",
    "# df1"
   ]
  },
  {
   "cell_type": "code",
   "execution_count": 126,
   "id": "7388e0b8",
   "metadata": {},
   "outputs": [],
   "source": [
    "# result = df1.groupby('Alloted Category')\n",
    "# cat = set(df1['Alloted Category'])\n",
    "dict_r1 = df1.to_dict('records')\n",
    "dict_r2 = df2.to_dict('records')\n",
    "dict_mopup = df3.to_dict('records')\n",
    "dict_stray = df4.to_dict('records')\n",
    "dict_sp_stray = df5.to_dict('records')"
   ]
  },
  {
   "cell_type": "code",
   "execution_count": 127,
   "id": "bc58a560",
   "metadata": {},
   "outputs": [],
   "source": [
    "# course = set(df1['Course'])\n",
    "# len(course)\n",
    "# course\n",
    "# {'Allotted Quota': 'All India',\n",
    "#   'Allotted Institute': 'Lala Lajpat Rai Memorial Medical College, MEERUT,Lala Lajpat Rai Memorial Medical College, MEERUT, Uttar Pradesh, 250004',\n",
    "#   'Course': 'DIP. IN DERM.  VENEREOLOGY and LEPROSY/DERMATOLOGY /VENEREOLOGY and DERMATOLOGY/LEPROSY/VENEREAL DISEASE and LEPROSY',\n",
    "#   'Alloted Category': 'Open',\n",
    "#   'Cutoff Rank': 14409}"
   ]
  },
  {
   "cell_type": "code",
   "execution_count": 128,
   "id": "3c174f18",
   "metadata": {},
   "outputs": [],
   "source": [
    "def remove(string):\n",
    "    return string.replace(\" \", \"\")"
   ]
  },
  {
   "cell_type": "code",
   "execution_count": 129,
   "id": "6500738e",
   "metadata": {},
   "outputs": [],
   "source": [
    "df2_records_not_in_df1=[]\n",
    "for row in dict_r2:\n",
    "    match = False\n",
    "    for row1 in dict_r1:\n",
    "        if remove(row['Allotted Institute'].lower())==remove(row1['Allotted Institute'].lower()) and remove(row['Course'].lower())==remove(row1['Course'].lower()) and remove(row['Alloted Category'].lower())==remove(row1['Alloted Category'].lower()):\n",
    "            match=True\n",
    "    if not match:\n",
    "        df2_records_not_in_df1.append(row) \n",
    "#     if row in dict_r1:\n",
    "#         r1_r2_data.append(row)\n",
    "# df2_records_not_in_df1\n",
    "# ACSR GOVERNMENT MEDICAL COLLEGE,NELLORE,Opp AC Subbareddy Stadium Dargamitta Nellore,Andhra Pradesh,524004"
   ]
  },
  {
   "cell_type": "code",
   "execution_count": 130,
   "id": "f1cc00c2",
   "metadata": {},
   "outputs": [
    {
     "data": {
      "text/plain": [
       "99"
      ]
     },
     "execution_count": 130,
     "metadata": {},
     "output_type": "execute_result"
    }
   ],
   "source": [
    "len(df2_records_not_in_df1) #99\n",
    "# df2_records_not_in_df1"
   ]
  },
  {
   "cell_type": "code",
   "execution_count": 131,
   "id": "6480cbb6",
   "metadata": {},
   "outputs": [],
   "source": [
    "df3_records_not_in_df1=[]\n",
    "for row in dict_mopup:\n",
    "    match = False\n",
    "    for row1 in dict_r1:\n",
    "        if remove(row['Allotted Institute'].lower())==remove(row1['Allotted Institute'].lower()) and remove(row['Course'].lower())==remove(row1['Course'].lower()) and remove(row['Alloted Category'].lower())==remove(row1['Alloted Category'].lower()):\n",
    "            match=True\n",
    "    if not match:\n",
    "        df3_records_not_in_df1.append(row) "
   ]
  },
  {
   "cell_type": "code",
   "execution_count": 132,
   "id": "4cfc675e",
   "metadata": {},
   "outputs": [
    {
     "data": {
      "text/plain": [
       "464"
      ]
     },
     "execution_count": 132,
     "metadata": {},
     "output_type": "execute_result"
    }
   ],
   "source": [
    "len(df3_records_not_in_df1) #464\n",
    "# df3_records_not_in_df1"
   ]
  },
  {
   "cell_type": "code",
   "execution_count": 133,
   "id": "60e8ed6a",
   "metadata": {},
   "outputs": [],
   "source": [
    "df3_records_not_in_df2=[]\n",
    "for row in dict_mopup:\n",
    "    match = False\n",
    "    for row1 in dict_r2:\n",
    "        if remove(row['Allotted Institute'].lower())==remove(row1['Allotted Institute'].lower()) and remove(row['Course'].lower())==remove(row1['Course'].lower()) and remove(row['Alloted Category'].lower())==remove(row1['Alloted Category'].lower()):\n",
    "            match=True\n",
    "    if not match:\n",
    "        df3_records_not_in_df2.append(row)"
   ]
  },
  {
   "cell_type": "code",
   "execution_count": 134,
   "id": "5e7952c4",
   "metadata": {},
   "outputs": [
    {
     "data": {
      "text/plain": [
       "719"
      ]
     },
     "execution_count": 134,
     "metadata": {},
     "output_type": "execute_result"
    }
   ],
   "source": [
    "len(df3_records_not_in_df2) #719"
   ]
  },
  {
   "cell_type": "code",
   "execution_count": 135,
   "id": "6227f632",
   "metadata": {},
   "outputs": [],
   "source": [
    "df4_records_not_in_df1=[]\n",
    "for row in dict_stray:\n",
    "    match = False\n",
    "    for row1 in dict_r1:\n",
    "        if remove(row['Allotted Institute'].lower())==remove(row1['Allotted Institute'].lower()) and remove(row['Course'].lower())==remove(row1['Course'].lower()) and remove(row['Alloted Category'].lower())==remove(row1['Alloted Category'].lower()):\n",
    "            match=True\n",
    "    if not match:\n",
    "        df4_records_not_in_df1.append(row)"
   ]
  },
  {
   "cell_type": "code",
   "execution_count": 136,
   "id": "9951a492",
   "metadata": {},
   "outputs": [
    {
     "data": {
      "text/plain": [
       "189"
      ]
     },
     "execution_count": 136,
     "metadata": {},
     "output_type": "execute_result"
    }
   ],
   "source": [
    "len(df4_records_not_in_df1) #189"
   ]
  },
  {
   "cell_type": "code",
   "execution_count": 137,
   "id": "8caa92dd",
   "metadata": {},
   "outputs": [],
   "source": [
    "df4_records_not_in_df2=[]\n",
    "for row in dict_stray:\n",
    "    match = False\n",
    "    for row1 in dict_r2:\n",
    "        if remove(row['Allotted Institute'].lower())==remove(row1['Allotted Institute'].lower()) and remove(row['Course'].lower())==remove(row1['Course'].lower()) and remove(row['Alloted Category'].lower())==remove(row1['Alloted Category'].lower()):\n",
    "            match=True\n",
    "    if not match:\n",
    "        df4_records_not_in_df2.append(row)"
   ]
  },
  {
   "cell_type": "code",
   "execution_count": 138,
   "id": "e6a6e13c",
   "metadata": {},
   "outputs": [
    {
     "data": {
      "text/plain": [
       "277"
      ]
     },
     "execution_count": 138,
     "metadata": {},
     "output_type": "execute_result"
    }
   ],
   "source": [
    "len(df4_records_not_in_df2) #277"
   ]
  },
  {
   "cell_type": "code",
   "execution_count": 139,
   "id": "8c4ad676",
   "metadata": {},
   "outputs": [],
   "source": [
    "df4_records_not_in_mopup=[]\n",
    "for row in dict_stray:\n",
    "    match = False\n",
    "    for row1 in dict_mopup:\n",
    "        if remove(row['Allotted Institute'].lower())==remove(row1['Allotted Institute'].lower()) and remove(row['Course'].lower())==remove(row1['Course'].lower()) and remove(row['Alloted Category'].lower())==remove(row1['Alloted Category'].lower()):\n",
    "            match=True\n",
    "    if not match:\n",
    "        df4_records_not_in_mopup.append(row)"
   ]
  },
  {
   "cell_type": "code",
   "execution_count": 140,
   "id": "ef43c2a9",
   "metadata": {},
   "outputs": [
    {
     "data": {
      "text/plain": [
       "75"
      ]
     },
     "execution_count": 140,
     "metadata": {},
     "output_type": "execute_result"
    }
   ],
   "source": [
    "len(df4_records_not_in_mopup) #75"
   ]
  },
  {
   "cell_type": "code",
   "execution_count": 141,
   "id": "46237d1a",
   "metadata": {},
   "outputs": [],
   "source": [
    "df5_records_not_in_df1=[]\n",
    "for row in dict_sp_stray:\n",
    "    match = False\n",
    "    for row1 in dict_r1:\n",
    "        if remove(row['Allotted Institute'].lower())==remove(row1['Allotted Institute'].lower()) and remove(row['Course'].lower())==remove(row1['Course'].lower()) and remove(row['Alloted Category'].lower())==remove(row1['Alloted Category'].lower()):\n",
    "            match=True\n",
    "    if not match:\n",
    "        df5_records_not_in_df1.append(row)"
   ]
  },
  {
   "cell_type": "code",
   "execution_count": 142,
   "id": "3786c2e5",
   "metadata": {},
   "outputs": [
    {
     "data": {
      "text/plain": [
       "111"
      ]
     },
     "execution_count": 142,
     "metadata": {},
     "output_type": "execute_result"
    }
   ],
   "source": [
    "len(df5_records_not_in_df1) #111"
   ]
  },
  {
   "cell_type": "code",
   "execution_count": 143,
   "id": "fd811251",
   "metadata": {},
   "outputs": [],
   "source": [
    "df5_records_not_in_df2=[]\n",
    "for row in dict_sp_stray:\n",
    "    match = False\n",
    "    for row1 in dict_r2:\n",
    "        if remove(row['Allotted Institute'].lower())==remove(row1['Allotted Institute'].lower()) and remove(row['Course'].lower())==remove(row1['Course'].lower()) and remove(row['Alloted Category'].lower())==remove(row1['Alloted Category'].lower()):\n",
    "            match=True\n",
    "    if not match:\n",
    "        df5_records_not_in_df2.append(row)"
   ]
  },
  {
   "cell_type": "code",
   "execution_count": 144,
   "id": "8429ba0b",
   "metadata": {},
   "outputs": [
    {
     "data": {
      "text/plain": [
       "118"
      ]
     },
     "execution_count": 144,
     "metadata": {},
     "output_type": "execute_result"
    }
   ],
   "source": [
    "len(df5_records_not_in_df2) #118"
   ]
  },
  {
   "cell_type": "code",
   "execution_count": 145,
   "id": "524fcbd6",
   "metadata": {},
   "outputs": [],
   "source": [
    "df5_records_not_in_mopup=[]\n",
    "for row in dict_sp_stray:\n",
    "    match = False\n",
    "    for row1 in dict_mopup:\n",
    "        if remove(row['Allotted Institute'].lower())==remove(row1['Allotted Institute'].lower()) and remove(row['Course'].lower())==remove(row1['Course'].lower()) and remove(row['Alloted Category'].lower())==remove(row1['Alloted Category'].lower()):\n",
    "            match=True\n",
    "    if not match:\n",
    "        df5_records_not_in_mopup.append(row)"
   ]
  },
  {
   "cell_type": "code",
   "execution_count": 146,
   "id": "68557403",
   "metadata": {},
   "outputs": [
    {
     "data": {
      "text/plain": [
       "63"
      ]
     },
     "execution_count": 146,
     "metadata": {},
     "output_type": "execute_result"
    }
   ],
   "source": [
    "len(df5_records_not_in_mopup) #63"
   ]
  },
  {
   "cell_type": "code",
   "execution_count": 147,
   "id": "75d5dcbb",
   "metadata": {},
   "outputs": [],
   "source": [
    "df5_records_not_in_stray=[]\n",
    "for row in dict_sp_stray:\n",
    "    match = False\n",
    "    for row1 in dict_stray:\n",
    "        if remove(row['Allotted Institute'].lower())==remove(row1['Allotted Institute'].lower()) and remove(row['Course'].lower())==remove(row1['Course'].lower()) and remove(row['Alloted Category'].lower())==remove(row1['Alloted Category'].lower()):\n",
    "            match=True\n",
    "    if not match:\n",
    "        df5_records_not_in_stray.append(row)"
   ]
  },
  {
   "cell_type": "code",
   "execution_count": 148,
   "id": "2bb5d35d",
   "metadata": {},
   "outputs": [
    {
     "data": {
      "text/plain": [
       "70"
      ]
     },
     "execution_count": 148,
     "metadata": {},
     "output_type": "execute_result"
    }
   ],
   "source": [
    "len(df5_records_not_in_stray) #70"
   ]
  },
  {
   "cell_type": "code",
   "execution_count": null,
   "id": "0caab17a",
   "metadata": {},
   "outputs": [],
   "source": []
  },
  {
   "cell_type": "code",
   "execution_count": null,
   "id": "c4b97763",
   "metadata": {},
   "outputs": [],
   "source": []
  },
  {
   "cell_type": "code",
   "execution_count": null,
   "id": "9d197645",
   "metadata": {},
   "outputs": [],
   "source": []
  },
  {
   "cell_type": "code",
   "execution_count": 149,
   "id": "7bcff0e1",
   "metadata": {},
   "outputs": [],
   "source": [
    "# column = ['Allotted Quota', 'Allotted Institute', 'Course', 'Alloted Category', 'Cutoff Rank']\n",
    "# final_data=[]\n",
    "# temp_data = []\n",
    "# for dr1 in dict_r1:\n",
    "#     for dr2 in dict_r2:\n",
    "#         if remove(dr1['Allotted Institute'])==remove(dr2['Allotted Institute']) and dr1['Course']==dr2['Course'] and dr1['Alloted Category']==dr2['Alloted Category']:\n",
    "#             dr1['r2'] = dr2['Cutoff Rank']\n",
    "#             if dr1 not in final_data:\n",
    "#                 final_data.append(dr1)\n",
    "#         else:\n",
    "#             print(\"dr1....\", dr1)\n",
    "#             print(\"dr2....\", dr2)\n",
    "#             dr1['r2'] = '-'\n",
    "#             dr2['r2'] = '-'\n",
    "#             if dr1 not in final_data:\n",
    "#                 final_data.append(dr1)\n",
    "#             if dr2 not in final_data:\n",
    "#                 final_data.append(dr2)\n"
   ]
  },
  {
   "cell_type": "code",
   "execution_count": 150,
   "id": "e728750f",
   "metadata": {},
   "outputs": [],
   "source": [
    "# data={}\n",
    "# col = ['Allotted Quota', 'Allotted Institute', 'Course', 'Alloted Category', 'Cutoff Rank']\n",
    "# for data1 in df1:\n",
    "#     for c in col:\n",
    "#         if data1==c:\n",
    "#             data[c]=df1[data1][0]\n",
    "            \n",
    "# data\n",
    "#7043\n",
    "#5610\n",
    "# len(final_data)\n",
    "# final_data"
   ]
  },
  {
   "cell_type": "code",
   "execution_count": null,
   "id": "6b41a9c4",
   "metadata": {},
   "outputs": [],
   "source": []
  },
  {
   "cell_type": "code",
   "execution_count": null,
   "id": "9901c07b",
   "metadata": {},
   "outputs": [],
   "source": []
  }
 ],
 "metadata": {
  "kernelspec": {
   "display_name": "Python 3",
   "language": "python",
   "name": "python3"
  },
  "language_info": {
   "codemirror_mode": {
    "name": "ipython",
    "version": 3
   },
   "file_extension": ".py",
   "mimetype": "text/x-python",
   "name": "python",
   "nbconvert_exporter": "python",
   "pygments_lexer": "ipython3",
   "version": "3.6.6"
  }
 },
 "nbformat": 4,
 "nbformat_minor": 5
}
