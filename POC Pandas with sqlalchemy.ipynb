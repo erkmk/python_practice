{
 "cells": [
  {
   "cell_type": "code",
   "execution_count": null,
   "id": "d1cdd942",
   "metadata": {},
   "outputs": [],
   "source": [
    "# formula_df = pandas.read_sql_query(sql = query, con = db.engine.connect())\n",
    "# formula_df = pandas.read_sql(formula_query.statement, formula_query.session.bind)"
   ]
  },
  {
   "cell_type": "code",
   "execution_count": 3,
   "id": "0c518379",
   "metadata": {},
   "outputs": [],
   "source": [
    "agg_bugg = [{'logic_id': 62255, 'unbucketed': False, 'source': 'CBK', 'name': 'cbk_cont_inelig', 'reportable_name': 'Ineligible Indirect Sales - Contract', \n",
    "'ordering': 23, 'variance_threshold_dollar': '0.0000', 'variance_threshold_unit': '0.0000', 'summary_variance': False, 'ndc11': '10631010030', \n",
    "'ndc9': '694890721', 'period': '201905', 'value_period': 'DEFAULT', 'ratio1': False, 'aggbucket_id': 0, 'aggbucket_ids': [0], 'derived': False, \n",
    "'logic_name': '', 'logic_value': '', 'dollars': '0.00', 'units': '0.000', 'min_value': '0.000', 'count': 0, 'type': 'Bucket (CBK)', '_type': 'BUCKET', \n",
    "'notes': []}]\n",
    "formula_out = [{'formula': {'name': 'rcp_ratio', 'reportable_name': 'RCP 70/30 Calc Ratio', 'ordering': 11, 'derived': False, \n",
    "'d_round': 0, 'u_round': 0, '_type': 'FORMULA'}, '_type': 'FORMULA', 'type': 'Formula', 'formula_id': 33991, 'name': 'rcp_ratio', \n",
    "'reportable_name': 'RCP 70/30 Calc Ratio', 'derived': False, 'ordering': 11, 'value_period': 'DEFAULT', 'variance_threshold_dollar': '0.0000', \n",
    "'variance_threshold_unit': '0.0000', 'summary_variance': False, 'ndc11': '72143031160', 'ndc9': '721430311', 'period': '201906', 'ratio1': False, \n",
    "'formula_output_id': 72919566, 'dollars': '0.00000000000000', 'units': '0.00000000000000', 'min_value': 'N/A', 'count': 'N/A', 'notes': []}]\n",
    "\n",
    "out = agg_bugg + formula_out"
   ]
  },
  {
   "cell_type": "code",
   "execution_count": 7,
   "id": "8a3f0f1d",
   "metadata": {},
   "outputs": [
    {
     "data": {
      "text/plain": [
       "['2019-06', '2019-05']"
      ]
     },
     "execution_count": 7,
     "metadata": {},
     "output_type": "execute_result"
    }
   ],
   "source": [
    "calc_ndcs = sorted(set([x[\"ndc11\"] for x in out]))\n",
    "calc_periods = set([x[\"period\"] for x in out])\n",
    "calc_ndcs\n",
    "calc_periods = sorted(\n",
    "        list(map(lambda x: x[:4] + \"-\" + x[4:], calc_periods)), reverse=True\n",
    "    )\n",
    "calc_periods"
   ]
  },
  {
   "cell_type": "code",
   "execution_count": 8,
   "id": "1eb738b9",
   "metadata": {},
   "outputs": [
    {
     "name": "stdout",
     "output_type": "stream",
     "text": [
      "2\n",
      "{'logic_id': 62255, 'unbucketed': False, 'source': 'CBK', 'name': 'cbk_cont_inelig', 'reportable_name': 'Ineligible Indirect Sales - Contract', 'ordering': 23, 'variance_threshold_dollar': '0.0000', 'variance_threshold_unit': '0.0000', 'summary_variance': False, 'ndc11': '10631010030', 'ndc9': '694890721', 'period': '201905', 'value_period': 'DEFAULT', 'ratio1': False, 'aggbucket_id': 0, 'aggbucket_ids': [0], 'derived': False, 'logic_name': '', 'logic_value': '', 'dollars': '0.00', 'units': '0.000', 'min_value': '0.000', 'count': 0, 'type': 'Bucket (CBK)', '_type': 'BUCKET', 'notes': []}\n",
      "3\n",
      "{'formula': {'name': 'rcp_ratio', 'reportable_name': 'RCP 70/30 Calc Ratio', 'ordering': 11, 'derived': False, 'd_round': 0, 'u_round': 0, '_type': 'FORMULA'}, '_type': 'FORMULA', 'type': 'Formula', 'formula_id': 33991, 'name': 'rcp_ratio', 'reportable_name': 'RCP 70/30 Calc Ratio', 'derived': False, 'ordering': 11, 'value_period': 'DEFAULT', 'variance_threshold_dollar': '0.0000', 'variance_threshold_unit': '0.0000', 'summary_variance': False, 'ndc11': '72143031160', 'ndc9': '721430311', 'period': '201906', 'ratio1': False, 'formula_output_id': 72919566, 'dollars': '0.00000000000000', 'units': '0.00000000000000', 'min_value': 'N/A', 'count': 'N/A', 'notes': []}\n"
     ]
    }
   ],
   "source": [
    "for x, line in enumerate(out, start=2):\n",
    "    print(x)    \n",
    "    print(line)\n"
   ]
  },
  {
   "cell_type": "code",
   "execution_count": 14,
   "id": "0887be76",
   "metadata": {},
   "outputs": [],
   "source": [
    "from math import ceil\n",
    "def month2quarter(month):\n",
    "    return month[:4] + \"Q\" + str(ceil(int(month[4:]) / 3))"
   ]
  },
  {
   "cell_type": "code",
   "execution_count": 20,
   "id": "bd93ec7e",
   "metadata": {},
   "outputs": [
    {
     "name": "stdout",
     "output_type": "stream",
     "text": [
      "{'month2quarter': <function month2quarter at 0x000001AA6912D2F0>}\n"
     ]
    }
   ],
   "source": [
    "bucket_cols = {\n",
    "    \"source\": \"ret = line.get('source', '')\",\n",
    "    \"year\": \"ret = line['period'][:4]\",\n",
    "    \"quarter\": \"ret = month2quarter(line['period'])\",\n",
    "    \"id\": \"ret = line.get('logic_id', '') or line.get('formula_id', '')\",\n",
    "\n",
    "}\n",
    "\n",
    "namespace = {\n",
    "        \"month2quarter\": month2quarter\n",
    "    }\n",
    "print(namespace)"
   ]
  },
  {
   "cell_type": "code",
   "execution_count": 21,
   "id": "797956fd",
   "metadata": {},
   "outputs": [
    {
     "name": "stdout",
     "output_type": "stream",
     "text": [
      "{'month2quarter': <function month2quarter at 0x000001AA6912D2F0>, 'line': {'logic_id': 62255, 'unbucketed': False, 'source': 'CBK', 'name': 'cbk_cont_inelig', 'reportable_name': 'Ineligible Indirect Sales - Contract', 'ordering': 23, 'variance_threshold_dollar': '0.0000', 'variance_threshold_unit': '0.0000', 'summary_variance': False, 'ndc11': '10631010030', 'ndc9': '694890721', 'period': '201905', 'value_period': 'DEFAULT', 'ratio1': False, 'aggbucket_id': 0, 'aggbucket_ids': [0], 'derived': False, 'logic_name': '', 'logic_value': '', 'dollars': '0.00', 'units': '0.000', 'min_value': '0.000', 'count': 0, 'type': 'Bucket (CBK)', '_type': 'BUCKET', 'notes': []}}\n",
      "col_name:  source\n",
      "after exec:  CBK\n",
      "col_name:  year\n",
      "after exec:  2019\n",
      "col_name:  quarter\n",
      "after exec:  2019Q2\n",
      "col_name:  id\n",
      "after exec:  62255\n",
      "{'month2quarter': <function month2quarter at 0x000001AA6912D2F0>, 'line': {'formula': {'name': 'rcp_ratio', 'reportable_name': 'RCP 70/30 Calc Ratio', 'ordering': 11, 'derived': False, 'd_round': 0, 'u_round': 0, '_type': 'FORMULA'}, '_type': 'FORMULA', 'type': 'Formula', 'formula_id': 33991, 'name': 'rcp_ratio', 'reportable_name': 'RCP 70/30 Calc Ratio', 'derived': False, 'ordering': 11, 'value_period': 'DEFAULT', 'variance_threshold_dollar': '0.0000', 'variance_threshold_unit': '0.0000', 'summary_variance': False, 'ndc11': '72143031160', 'ndc9': '721430311', 'period': '201906', 'ratio1': False, 'formula_output_id': 72919566, 'dollars': '0.00000000000000', 'units': '0.00000000000000', 'min_value': 'N/A', 'count': 'N/A', 'notes': []}, '__builtins__': {'__name__': 'builtins', '__doc__': \"Built-in functions, exceptions, and other objects.\\n\\nNoteworthy: None is the `nil' object; Ellipsis represents `...' in slices.\", '__package__': '', '__loader__': <class '_frozen_importlib.BuiltinImporter'>, '__spec__': ModuleSpec(name='builtins', loader=<class '_frozen_importlib.BuiltinImporter'>), '__build_class__': <built-in function __build_class__>, '__import__': <built-in function __import__>, 'abs': <built-in function abs>, 'all': <built-in function all>, 'any': <built-in function any>, 'ascii': <built-in function ascii>, 'bin': <built-in function bin>, 'callable': <built-in function callable>, 'chr': <built-in function chr>, 'compile': <built-in function compile>, 'delattr': <built-in function delattr>, 'dir': <built-in function dir>, 'divmod': <built-in function divmod>, 'eval': <built-in function eval>, 'exec': <built-in function exec>, 'format': <built-in function format>, 'getattr': <built-in function getattr>, 'globals': <built-in function globals>, 'hasattr': <built-in function hasattr>, 'hash': <built-in function hash>, 'hex': <built-in function hex>, 'id': <built-in function id>, 'input': <bound method Kernel.raw_input of <ipykernel.ipkernel.IPythonKernel object at 0x000001AA68FD5A20>>, 'isinstance': <built-in function isinstance>, 'issubclass': <built-in function issubclass>, 'iter': <built-in function iter>, 'len': <built-in function len>, 'locals': <built-in function locals>, 'max': <built-in function max>, 'min': <built-in function min>, 'next': <built-in function next>, 'oct': <built-in function oct>, 'ord': <built-in function ord>, 'pow': <built-in function pow>, 'print': <built-in function print>, 'repr': <built-in function repr>, 'round': <built-in function round>, 'setattr': <built-in function setattr>, 'sorted': <built-in function sorted>, 'sum': <built-in function sum>, 'vars': <built-in function vars>, 'None': None, 'Ellipsis': Ellipsis, 'NotImplemented': NotImplemented, 'False': False, 'True': True, 'bool': <class 'bool'>, 'memoryview': <class 'memoryview'>, 'bytearray': <class 'bytearray'>, 'bytes': <class 'bytes'>, 'classmethod': <class 'classmethod'>, 'complex': <class 'complex'>, 'dict': <class 'dict'>, 'enumerate': <class 'enumerate'>, 'filter': <class 'filter'>, 'float': <class 'float'>, 'frozenset': <class 'frozenset'>, 'property': <class 'property'>, 'int': <class 'int'>, 'list': <class 'list'>, 'map': <class 'map'>, 'object': <class 'object'>, 'range': <class 'range'>, 'reversed': <class 'reversed'>, 'set': <class 'set'>, 'slice': <class 'slice'>, 'staticmethod': <class 'staticmethod'>, 'str': <class 'str'>, 'super': <class 'super'>, 'tuple': <class 'tuple'>, 'type': <class 'type'>, 'zip': <class 'zip'>, '__debug__': True, 'BaseException': <class 'BaseException'>, 'Exception': <class 'Exception'>, 'TypeError': <class 'TypeError'>, 'StopAsyncIteration': <class 'StopAsyncIteration'>, 'StopIteration': <class 'StopIteration'>, 'GeneratorExit': <class 'GeneratorExit'>, 'SystemExit': <class 'SystemExit'>, 'KeyboardInterrupt': <class 'KeyboardInterrupt'>, 'ImportError': <class 'ImportError'>, 'ModuleNotFoundError': <class 'ModuleNotFoundError'>, 'OSError': <class 'OSError'>, 'EnvironmentError': <class 'OSError'>, 'IOError': <class 'OSError'>, 'WindowsError': <class 'OSError'>, 'EOFError': <class 'EOFError'>, 'RuntimeError': <class 'RuntimeError'>, 'RecursionError': <class 'RecursionError'>, 'NotImplementedError': <class 'NotImplementedError'>, 'NameError': <class 'NameError'>, 'UnboundLocalError': <class 'UnboundLocalError'>, 'AttributeError': <class 'AttributeError'>, 'SyntaxError': <class 'SyntaxError'>, 'IndentationError': <class 'IndentationError'>, 'TabError': <class 'TabError'>, 'LookupError': <class 'LookupError'>, 'IndexError': <class 'IndexError'>, 'KeyError': <class 'KeyError'>, 'ValueError': <class 'ValueError'>, 'UnicodeError': <class 'UnicodeError'>, 'UnicodeEncodeError': <class 'UnicodeEncodeError'>, 'UnicodeDecodeError': <class 'UnicodeDecodeError'>, 'UnicodeTranslateError': <class 'UnicodeTranslateError'>, 'AssertionError': <class 'AssertionError'>, 'ArithmeticError': <class 'ArithmeticError'>, 'FloatingPointError': <class 'FloatingPointError'>, 'OverflowError': <class 'OverflowError'>, 'ZeroDivisionError': <class 'ZeroDivisionError'>, 'SystemError': <class 'SystemError'>, 'ReferenceError': <class 'ReferenceError'>, 'BufferError': <class 'BufferError'>, 'MemoryError': <class 'MemoryError'>, 'Warning': <class 'Warning'>, 'UserWarning': <class 'UserWarning'>, 'DeprecationWarning': <class 'DeprecationWarning'>, 'PendingDeprecationWarning': <class 'PendingDeprecationWarning'>, 'SyntaxWarning': <class 'SyntaxWarning'>, 'RuntimeWarning': <class 'RuntimeWarning'>, 'FutureWarning': <class 'FutureWarning'>, 'ImportWarning': <class 'ImportWarning'>, 'UnicodeWarning': <class 'UnicodeWarning'>, 'BytesWarning': <class 'BytesWarning'>, 'ResourceWarning': <class 'ResourceWarning'>, 'ConnectionError': <class 'ConnectionError'>, 'BlockingIOError': <class 'BlockingIOError'>, 'BrokenPipeError': <class 'BrokenPipeError'>, 'ChildProcessError': <class 'ChildProcessError'>, 'ConnectionAbortedError': <class 'ConnectionAbortedError'>, 'ConnectionRefusedError': <class 'ConnectionRefusedError'>, 'ConnectionResetError': <class 'ConnectionResetError'>, 'FileExistsError': <class 'FileExistsError'>, 'FileNotFoundError': <class 'FileNotFoundError'>, 'IsADirectoryError': <class 'IsADirectoryError'>, 'NotADirectoryError': <class 'NotADirectoryError'>, 'InterruptedError': <class 'InterruptedError'>, 'PermissionError': <class 'PermissionError'>, 'ProcessLookupError': <class 'ProcessLookupError'>, 'TimeoutError': <class 'TimeoutError'>, 'open': <built-in function open>, 'copyright': Copyright (c) 2001-2018 Python Software Foundation.\n",
      "All Rights Reserved.\n",
      "\n",
      "Copyright (c) 2000 BeOpen.com.\n",
      "All Rights Reserved.\n",
      "\n",
      "Copyright (c) 1995-2001 Corporation for National Research Initiatives.\n",
      "All Rights Reserved.\n",
      "\n",
      "Copyright (c) 1991-1995 Stichting Mathematisch Centrum, Amsterdam.\n",
      "All Rights Reserved., 'credits':     Thanks to CWI, CNRI, BeOpen.com, Zope Corporation and a cast of thousands\n",
      "    for supporting Python development.  See www.python.org for more information., 'license': Type license() to see the full license text, 'help': Type help() for interactive help, or help(object) for help about object., '__IPYTHON__': True, 'display': <function display at 0x000001AA66F7ABF8>, 'get_ipython': <bound method InteractiveShell.get_ipython of <ipykernel.zmqshell.ZMQInteractiveShell object at 0x000001AA64F1D828>>}, 'ret': 62255}\n",
      "col_name:  source\n",
      "after exec:  \n",
      "col_name:  year\n",
      "after exec:  2019\n",
      "col_name:  quarter\n",
      "after exec:  2019Q2\n",
      "col_name:  id\n",
      "after exec:  33991\n"
     ]
    }
   ],
   "source": [
    "for x, line in enumerate(out, start=2):\n",
    "        namespace[\"line\"] = line\n",
    "        print(namespace)\n",
    "        for y, col in enumerate(bucket_cols, start=1):\n",
    "            print(\"col_name: \", col)            \n",
    "            exec(bucket_cols[col], namespace)\n",
    "            print(\"after exec: \", namespace[\"ret\"])\n",
    "            \n",
    "# print(namespace)"
   ]
  },
  {
   "cell_type": "code",
   "execution_count": null,
   "id": "47670ded",
   "metadata": {},
   "outputs": [],
   "source": []
  }
 ],
 "metadata": {
  "kernelspec": {
   "display_name": "Python 3",
   "language": "python",
   "name": "python3"
  },
  "language_info": {
   "codemirror_mode": {
    "name": "ipython",
    "version": 3
   },
   "file_extension": ".py",
   "mimetype": "text/x-python",
   "name": "python",
   "nbconvert_exporter": "python",
   "pygments_lexer": "ipython3",
   "version": "3.6.6"
  }
 },
 "nbformat": 4,
 "nbformat_minor": 5
}
