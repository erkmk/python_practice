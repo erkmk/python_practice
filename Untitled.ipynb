{
 "cells": [
  {
   "cell_type": "code",
   "execution_count": 7,
   "id": "5b9332f6",
   "metadata": {},
   "outputs": [
    {
     "name": "stdout",
     "output_type": "stream",
     "text": [
      "11\n",
      "arry [11, 12, 13, 5, 6]\n",
      "13\n",
      "arry [11, 12, 13, 5, 6]\n",
      "5\n",
      "arry [5, 11, 12, 13, 6]\n",
      "6\n",
      "arry [5, 6, 11, 12, 13]\n",
      "Sorted array is : \n",
      "[5, 6, 11, 12, 13]\n",
      "[5, 6, 11, 12, 13]\n"
     ]
    }
   ],
   "source": [
    "def insertionSort(arr):\n",
    " \n",
    "    for i in range(1, len(arr)):\n",
    " \n",
    "        key = arr[i]\n",
    "        print(key)\n",
    "    \n",
    "        # Move elements of arr[0..i-1], that are\n",
    "        # greater than key, to one position ahead\n",
    "        # of their current position\n",
    " \n",
    "        j = i-1\n",
    "        while j >=0 and key < arr[j] :\n",
    "                arr[j+1] = arr[j]\n",
    "                j -= 1\n",
    "        arr[j+1] = key\n",
    "        print(\"arry\", arr)\n",
    "\n",
    "arr = [12, 11, 13, 5, 6]\n",
    "insertionSort(arr)   \n",
    "lst = [] #empty list to store sorted elements\n",
    "print(\"Sorted array is : \")\n",
    "for i in range(len(arr)):\n",
    "  lst.append(arr[i])       #appending the elements in sorted order\n",
    "print(arr)\n",
    "print(lst)"
   ]
  },
  {
   "cell_type": "code",
   "execution_count": 8,
   "id": "ee5ea376",
   "metadata": {},
   "outputs": [
    {
     "name": "stdout",
     "output_type": "stream",
     "text": [
      "17\n",
      "5\n",
      "2\n"
     ]
    }
   ],
   "source": [
    "def printLeaders(arr,size):\n",
    "     \n",
    "    for i in range(0, size):\n",
    "        for j in range(i+1, size):\n",
    "            if arr[i]<=arr[j]:\n",
    "                break\n",
    "        if j == size-1: # If loop didn't break\n",
    "            print(arr[i])\n",
    " \n",
    "# Driver function\n",
    "arr=[16, 17, 4, 3, 5, 2]\n",
    "printLeaders(arr, len(arr))"
   ]
  },
  {
   "cell_type": "code",
   "execution_count": 9,
   "id": "a62246ce",
   "metadata": {},
   "outputs": [
    {
     "ename": "SyntaxError",
     "evalue": "invalid syntax (<ipython-input-9-efdd79059cf5>, line 1)",
     "output_type": "error",
     "traceback": [
      "\u001b[1;36m  File \u001b[1;32m\"<ipython-input-9-efdd79059cf5>\"\u001b[1;36m, line \u001b[1;32m1\u001b[0m\n\u001b[1;33m    same vraiable name mat use kar bhai\u001b[0m\n\u001b[1;37m                ^\u001b[0m\n\u001b[1;31mSyntaxError\u001b[0m\u001b[1;31m:\u001b[0m invalid syntax\n"
     ]
    }
   ],
   "source": [
    "same vraiable name mat use kar bhai"
   ]
  },
  {
   "cell_type": "code",
   "execution_count": 40,
   "id": "f51e0ebd",
   "metadata": {},
   "outputs": [
    {
     "name": "stdout",
     "output_type": "stream",
     "text": [
      "Largest in given array  9808\n"
     ]
    }
   ],
   "source": [
    "def largest():\n",
    " \n",
    "    max = arr[0]\n",
    " \n",
    "    for i in arr:\n",
    "        if i > max:\n",
    "            max = i\n",
    "    return max\n",
    " \n",
    " \n",
    "arr = [10, 324, 45, 90, 9808]\n",
    "n = len(arr)\n",
    "Ans = largest()\n",
    "print(\"Largest in given array \", Ans)"
   ]
  },
  {
   "cell_type": "code",
   "execution_count": 39,
   "id": "2c13c090",
   "metadata": {},
   "outputs": [
    {
     "name": "stdout",
     "output_type": "stream",
     "text": [
      "{'xyz': 78}\n"
     ]
    }
   ],
   "source": [
    "student = {\"abc\":{\"score\": 67}, \"xyz\":{\"score\": 78}, \"kbc\":{\"score\": 17}}\n",
    "\n",
    "\n",
    "def largest():\n",
    "    max=0\n",
    "    stud = ''\n",
    "    for i in student:\n",
    "        score = student.get(i)[\"score\"]\n",
    "        if score>max:\n",
    "            max=score\n",
    "            stud = i\n",
    "    return {stud:max}\n",
    "\n",
    "print(largest())"
   ]
  },
  {
   "cell_type": "code",
   "execution_count": 5,
   "id": "ee25dcf0",
   "metadata": {},
   "outputs": [],
   "source": [
    "a= 0-1\n",
    "if a >=0:\n",
    "    print(\"yes\")"
   ]
  },
  {
   "cell_type": "code",
   "execution_count": null,
   "id": "f3481bfd",
   "metadata": {},
   "outputs": [],
   "source": []
  }
 ],
 "metadata": {
  "kernelspec": {
   "display_name": "Python 3",
   "language": "python",
   "name": "python3"
  },
  "language_info": {
   "codemirror_mode": {
    "name": "ipython",
    "version": 3
   },
   "file_extension": ".py",
   "mimetype": "text/x-python",
   "name": "python",
   "nbconvert_exporter": "python",
   "pygments_lexer": "ipython3",
   "version": "3.6.6"
  }
 },
 "nbformat": 4,
 "nbformat_minor": 5
}
