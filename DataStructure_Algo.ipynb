{
 "cells": [
  {
   "cell_type": "markdown",
   "metadata": {},
   "source": [
    "1.Data given in an array\n",
    "Find the max difference between the consecutive elements.\n",
    "And if the right most max element is more than the left element then find the max difference.\n",
    "Basically they wanted to spot the biggest positive change in trend that happened continuously.\n"
   ]
  },
  {
   "cell_type": "code",
   "execution_count": 19,
   "metadata": {},
   "outputs": [
    {
     "name": "stdout",
     "output_type": "stream",
     "text": [
      "enter number2\n",
      "1 2 3 4 5\n",
      "n,k 5 2\n",
      "3 4 5 1 2\n"
     ]
    }
   ],
   "source": [
    "def array_left_rotation(a, k):\n",
    "    print(\"n,k\",n,k)\n",
    "    return a[k:]+a[:k]\n",
    "\n",
    "# n, k = map(int, input().strip().split(' '))\n",
    "k = int(input(\"enter number of rotations\"))\n",
    "a = list(map(int, input().strip().split(' ')))\n",
    "answer = array_left_rotation(a, k)\n",
    "print(*answer, sep=' ')"
   ]
  },
  {
   "cell_type": "code",
   "execution_count": 5,
   "metadata": {
    "scrolled": true
   },
   "outputs": [
    {
     "name": "stdout",
     "output_type": "stream",
     "text": [
      "Enter String:abcdef\n",
      "['f', 'a', 'b', 'c', 'd', 'e']\n",
      "['d', 'e', 'f', 'a', 'b', 'c']\n",
      "['c', 'd', 'e', 'f', 'a', 'b']\n",
      "['a', 'b', 'c', 'd', 'e', 'f']\n",
      "4\n"
     ]
    }
   ],
   "source": [
    "def array_right_rotation(a, n):\n",
    "    a = a[n:]+a[:n]\n",
    "    return a\n",
    "\n",
    "#k = int(input(\"enter number\"))\n",
    "a = list(map(str, input(\"Enter String:\")))\n",
    "n = len(a)-1\n",
    "for k in range(1,5):\n",
    "    answer = array_right_rotation(a, n);\n",
    "    a = answer\n",
    "    print(*answer, sep=' ')\n",
    "    if n==len(a)-1:\n",
    "        n=n-1\n",
    "    else:\n",
    "        n=n+1\n",
    "print(k)"
   ]
  },
  {
   "cell_type": "code",
   "execution_count": 4,
   "metadata": {},
   "outputs": [
    {
     "name": "stdout",
     "output_type": "stream",
     "text": [
      "[5, 8, 15]\n",
      "[(8, 5), (15, 8), (19, 15)]\n",
      "[5, 3, 7, 4]\n"
     ]
    }
   ],
   "source": [
    "total_score = [5, 8, 15, 19]\n",
    "y=total_score[:-1]\n",
    "print(y)\n",
    "x=zip(total_score[1:], total_score[:-1])\n",
    "print(list(x))\n",
    "res = [total_score[0]] + [x-y for x, y in zip(total_score[1:], total_score[:-1])]\n",
    "print(res)"
   ]
  },
  {
   "cell_type": "code",
   "execution_count": 6,
   "metadata": {},
   "outputs": [
    {
     "name": "stdout",
     "output_type": "stream",
     "text": [
      "[1, 2, 3, 4]\n"
     ]
    }
   ],
   "source": [
    "list1 = [1,2,3,4,5]\n",
    "print(list1[:-1])"
   ]
  },
  {
   "cell_type": "code",
   "execution_count": null,
   "metadata": {},
   "outputs": [],
   "source": [
    "#!/bin/python3\n",
    "\n",
    "import math\n",
    "import os\n",
    "import random\n",
    "import re\n",
    "import sys\n",
    "\n",
    "\n",
    "\n",
    "#\n",
    "# Complete the 'fizzBuzz' function below.\n",
    "#\n",
    "# The function accepts INTEGER n as parameter.\n",
    "#\n",
    "\n",
    "def fizzBuzz(n):\n",
    "    # Write your code here\n",
    "    for i in range(1,n+1):\n",
    "        if i%3==0 and i%5==0:\n",
    "            print(\"FizzBuzz\")\n",
    "        elif i%3==0 and i%5!=0:\n",
    "            print(\"Fizz\") \n",
    "        elif i%5==0 and i%3!=0:\n",
    "            print(\"Buzz\")\n",
    "        else:\n",
    "            print(i)\n",
    "            \n",
    "\n",
    "if __name__ == '__main__':\n",
    "    n = int(input().strip())\n",
    "\n",
    "    fizzBuzz(n)\n"
   ]
  },
  {
   "cell_type": "code",
   "execution_count": null,
   "metadata": {},
   "outputs": [],
   "source": [
    "def array_left_rotation(a, n, k):                \n",
    "    return a[:k]+a[k:]\n",
    "\n",
    "n, k = map(int, input().strip().split(' '))\n",
    "a = list(map(str, input().strip().split(' ')))\n",
    "answer = array_left_rotation(a, n, k);\n",
    "print(*answer, sep=' ')\n",
    "if k==1:\n",
    "    k=k+1\n",
    "    a=answer\n",
    "    answer2=array_left_rotation(a, answer, k)\n",
    "    print(*answer2, sep=' ')\n",
    "else:\n",
    "    k = k-1\n",
    "    answer=answer2\n",
    "    answer3=array_left_rotation(a, answer2, k)\n",
    "    print(*answer3, sep=' ')\n",
    "    "
   ]
  },
  {
   "cell_type": "code",
   "execution_count": null,
   "metadata": {},
   "outputs": [],
   "source": [
    "li=[1, 2,3,4,5]\n",
    "print(len(li))"
   ]
  },
  {
   "cell_type": "code",
   "execution_count": 3,
   "metadata": {},
   "outputs": [
    {
     "name": "stdout",
     "output_type": "stream",
     "text": [
      "0\n",
      "1\n",
      "1\n",
      "2\n",
      "3\n",
      "5\n",
      "8\n",
      "13\n",
      "21\n",
      "34\n",
      "55\n",
      "89\n"
     ]
    }
   ],
   "source": [
    "def fib():\n",
    "    a, b = 0, 1\n",
    "    while True:\n",
    "        yield a\n",
    "        a, b = b, a+b\n",
    "        \n",
    "for f in fib():\n",
    "    if f > 100:\n",
    "        break\n",
    "    print(f)"
   ]
  },
  {
   "cell_type": "code",
   "execution_count": null,
   "metadata": {},
   "outputs": [],
   "source": []
  },
  {
   "cell_type": "code",
   "execution_count": null,
   "metadata": {},
   "outputs": [],
   "source": []
  }
 ],
 "metadata": {
  "kernelspec": {
   "display_name": "Python 3",
   "language": "python",
   "name": "python3"
  },
  "language_info": {
   "codemirror_mode": {
    "name": "ipython",
    "version": 3
   },
   "file_extension": ".py",
   "mimetype": "text/x-python",
   "name": "python",
   "nbconvert_exporter": "python",
   "pygments_lexer": "ipython3",
   "version": "3.6.6"
  }
 },
 "nbformat": 4,
 "nbformat_minor": 4
}
